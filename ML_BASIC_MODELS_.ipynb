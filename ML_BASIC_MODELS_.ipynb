{
  "nbformat": 4,
  "nbformat_minor": 0,
  "metadata": {
    "colab": {
      "name": "ML- BASIC MODELS .ipynb",
      "provenance": [],
      "include_colab_link": true
    },
    "kernelspec": {
      "name": "python3",
      "display_name": "Python 3"
    },
    "language_info": {
      "name": "python"
    },
    "accelerator": "GPU"
  },
  "cells": [
    {
      "cell_type": "markdown",
      "metadata": {
        "id": "view-in-github",
        "colab_type": "text"
      },
      "source": [
        "<a href=\"https://colab.research.google.com/github/himanshi-15/Liar-Dataset-Fake-News-Detection-Ml-project-/blob/main/ML_BASIC_MODELS_.ipynb\" target=\"_parent\"><img src=\"https://colab.research.google.com/assets/colab-badge.svg\" alt=\"Open In Colab\"/></a>"
      ]
    },
    {
      "cell_type": "code",
      "metadata": {
        "colab": {
          "base_uri": "https://localhost:8080/"
        },
        "id": "hjOhYn6YjOBU",
        "outputId": "68250317-8983-4696-876a-d698e44413a9"
      },
      "source": [
        "from google.colab import drive\n",
        "drive.mount('/content/drive')"
      ],
      "execution_count": null,
      "outputs": [
        {
          "output_type": "stream",
          "text": [
            "Drive already mounted at /content/drive; to attempt to forcibly remount, call drive.mount(\"/content/drive\", force_remount=True).\n"
          ],
          "name": "stdout"
        }
      ]
    },
    {
      "cell_type": "code",
      "metadata": {
        "id": "tcEZI-cMjPH9"
      },
      "source": [
        "import pandas as pd\n",
        "train=pd.read_csv('/content/drive/MyDrive/liar_dataset/train.csv')"
      ],
      "execution_count": null,
      "outputs": []
    },
    {
      "cell_type": "code",
      "metadata": {
        "id": "Mh1ukJSBjqNQ"
      },
      "source": [
        "test=pd.read_csv('/content/drive/MyDrive/liar_dataset/test.csv')"
      ],
      "execution_count": null,
      "outputs": []
    },
    {
      "cell_type": "code",
      "metadata": {
        "colab": {
          "base_uri": "https://localhost:8080/",
          "height": 321
        },
        "id": "k-oz7OhVjude",
        "outputId": "11855ccd-808d-41f8-c251-caefb41a854e"
      },
      "source": [
        "df_raw = pd.concat([train, test], axis=0, sort=False)\n",
        "df_raw = df_raw.sample(frac=1).reset_index()\n",
        "df_raw.head(2)"
      ],
      "execution_count": null,
      "outputs": [
        {
          "output_type": "execute_result",
          "data": {
            "text/html": [
              "<div>\n",
              "<style scoped>\n",
              "    .dataframe tbody tr th:only-of-type {\n",
              "        vertical-align: middle;\n",
              "    }\n",
              "\n",
              "    .dataframe tbody tr th {\n",
              "        vertical-align: top;\n",
              "    }\n",
              "\n",
              "    .dataframe thead th {\n",
              "        text-align: right;\n",
              "    }\n",
              "</style>\n",
              "<table border=\"1\" class=\"dataframe\">\n",
              "  <thead>\n",
              "    <tr style=\"text-align: right;\">\n",
              "      <th></th>\n",
              "      <th>index</th>\n",
              "      <th>ID</th>\n",
              "      <th>Label</th>\n",
              "      <th>Statement</th>\n",
              "      <th>Subject</th>\n",
              "      <th>Speaker</th>\n",
              "      <th>Speaker's Job Title</th>\n",
              "      <th>State</th>\n",
              "      <th>Party</th>\n",
              "      <th>Barely True Count</th>\n",
              "      <th>False Count</th>\n",
              "      <th>Half True Count</th>\n",
              "      <th>Mostly True Count</th>\n",
              "      <th>Pants on Fire</th>\n",
              "      <th>Context</th>\n",
              "    </tr>\n",
              "  </thead>\n",
              "  <tbody>\n",
              "    <tr>\n",
              "      <th>0</th>\n",
              "      <td>2299</td>\n",
              "      <td>2028.json</td>\n",
              "      <td>TRUE</td>\n",
              "      <td>He (Kirk) did violate Pentagon rules, twice ac...</td>\n",
              "      <td>afghanistan,candidates-biography,iraq,message-...</td>\n",
              "      <td>alexi-giannoulias</td>\n",
              "      <td>NaN</td>\n",
              "      <td>Illinois</td>\n",
              "      <td>democrat</td>\n",
              "      <td>1.0</td>\n",
              "      <td>0.0</td>\n",
              "      <td>0.0</td>\n",
              "      <td>0.0</td>\n",
              "      <td>0.0</td>\n",
              "      <td>a campaign commercial</td>\n",
              "    </tr>\n",
              "    <tr>\n",
              "      <th>1</th>\n",
              "      <td>4389</td>\n",
              "      <td>11401.json</td>\n",
              "      <td>mostly-true</td>\n",
              "      <td>Texas has outstripped the national poverty rat...</td>\n",
              "      <td>economy,poverty,states</td>\n",
              "      <td>bee-moorhead</td>\n",
              "      <td>Executive director, Texas IMPACT</td>\n",
              "      <td>Texas</td>\n",
              "      <td>democrat</td>\n",
              "      <td>0.0</td>\n",
              "      <td>0.0</td>\n",
              "      <td>0.0</td>\n",
              "      <td>1.0</td>\n",
              "      <td>0.0</td>\n",
              "      <td>an oped article in the Austin American-Statesman</td>\n",
              "    </tr>\n",
              "  </tbody>\n",
              "</table>\n",
              "</div>"
            ],
            "text/plain": [
              "   index  ...                                           Context\n",
              "0   2299  ...                             a campaign commercial\n",
              "1   4389  ...  an oped article in the Austin American-Statesman\n",
              "\n",
              "[2 rows x 15 columns]"
            ]
          },
          "metadata": {
            "tags": []
          },
          "execution_count": 13
        }
      ]
    },
    {
      "cell_type": "code",
      "metadata": {
        "colab": {
          "base_uri": "https://localhost:8080/"
        },
        "id": "gnCoYpijjzdv",
        "outputId": "5d6ebaa5-6305-4fcb-8c3e-3581cae4e9e6"
      },
      "source": [
        "# The file contains 11507 rows and 15 columns\n",
        "df_raw.shape"
      ],
      "execution_count": null,
      "outputs": [
        {
          "output_type": "execute_result",
          "data": {
            "text/plain": [
              "(11507, 15)"
            ]
          },
          "metadata": {
            "tags": []
          },
          "execution_count": 14
        }
      ]
    },
    {
      "cell_type": "code",
      "metadata": {
        "id": "q5FTvpWZj7Bc"
      },
      "source": [
        "# naming the columns of the dataset\n",
        "df_raw.columns=[\"index\",\"ID\", \"label\", \"statement\", \"subject\", \"speaker\", \"job\", \"state\", \"party\", \"barely_true_cts\", \"false_cts\", \"half_true_cts\", \"mostly_true_cts\", \"pants_on_fire_cts\", \"context\"]"
      ],
      "execution_count": null,
      "outputs": []
    },
    {
      "cell_type": "code",
      "metadata": {
        "colab": {
          "base_uri": "https://localhost:8080/"
        },
        "id": "A_3piq2nj_GL",
        "outputId": "59a973c9-cd3e-4654-f1e9-a434e75fb937"
      },
      "source": [
        "# some of the statements\n",
        "df_raw['statement'].head(10).tolist()"
      ],
      "execution_count": null,
      "outputs": [
        {
          "output_type": "execute_result",
          "data": {
            "text/plain": [
              "['He (Kirk) did violate Pentagon rules, twice actually, for improperly mingling politics with his military service.',\n",
              " 'Texas has outstripped the national poverty rate since at least 1959.',\n",
              " 'As mayor, every year I was in office I did reduce taxes.',\n",
              " 'President Obama has spent over $2 million in legal fees defending lawsuits about his birth certificate.',\n",
              " 'Woodrow Wilson borrowed $30 billion to fund World War I in 1917. That money has not been paid back. And we are still paying interest on it.',\n",
              " 'Says Marco Rubio voted against every bill that would have helped keep our families safe. He even voted against a bipartisan measure, introduced by a Republican, to prevent people on the no-fly list from purchasing guns.',\n",
              " 'Says close to 90 percent of the population growth in Texas over the last decade was non-Anglo.',\n",
              " 'Rick Perry has become a millionaire on the public payroll.',\n",
              " 'Says the Koch brothers want to protect tax cuts for companies that ship our jobs overseas.',\n",
              " 'Kip Kinkel and Clackamas Town Center shootings both where citizen with gun stopped the crime']"
            ]
          },
          "metadata": {
            "tags": []
          },
          "execution_count": 16
        }
      ]
    },
    {
      "cell_type": "code",
      "metadata": {
        "id": "TDyH3sm9j-Kz"
      },
      "source": [
        "#Checking for duplicates and removing them\n",
        "df_raw.drop_duplicates(inplace = True)"
      ],
      "execution_count": null,
      "outputs": []
    },
    {
      "cell_type": "code",
      "metadata": {
        "colab": {
          "base_uri": "https://localhost:8080/"
        },
        "id": "2p5Hr-0GkRZQ",
        "outputId": "f6f79dd3-91e0-4c49-b9ec-692eceb9d9b1"
      },
      "source": [
        "#Show the number of missing (NAN, NaN, na) data for each column\n",
        "df_raw.isnull().sum()"
      ],
      "execution_count": null,
      "outputs": [
        {
          "output_type": "execute_result",
          "data": {
            "text/plain": [
              "index                   0\n",
              "ID                      0\n",
              "label                   0\n",
              "statement               0\n",
              "subject                 2\n",
              "speaker                 2\n",
              "job                  3222\n",
              "state                2470\n",
              "party                   2\n",
              "barely_true_cts         2\n",
              "false_cts               2\n",
              "half_true_cts           2\n",
              "mostly_true_cts         2\n",
              "pants_on_fire_cts       2\n",
              "context               119\n",
              "dtype: int64"
            ]
          },
          "metadata": {
            "tags": []
          },
          "execution_count": 19
        }
      ]
    },
    {
      "cell_type": "code",
      "metadata": {
        "colab": {
          "base_uri": "https://localhost:8080/"
        },
        "id": "GpfgthnTkUOn",
        "outputId": "f9c08494-968f-4803-b32c-d31718ad108c"
      },
      "source": [
        "# data cleaning \n",
        "df_raw[\"statement\"]=df_raw[\"statement\"].str.lower()\n",
        "df_raw[\"subject\"].fillna(\"\",inplace=True)\n",
        "df_raw[\"speaker\"].fillna(\"\",inplace=True)\n",
        "df_raw[\"job\"].fillna(\"\",inplace=True)\n",
        "df_raw[\"state\"].fillna(\"\",inplace=True)\n",
        "df_raw[\"party\"].fillna(\"\",inplace=True)\n",
        "df_raw[\"barely_true_cts\"].fillna(\"\",inplace=True)\n",
        "df_raw[\"false_cts\"].fillna(\"\",inplace=True)\n",
        "df_raw[\"half_true_cts\"].fillna(\"\",inplace=True)\n",
        "df_raw[\"mostly_true_cts\"].fillna(\"\",inplace=True)\n",
        "df_raw[\"pants_on_fire_cts\"].fillna(\"\",inplace=True)\n",
        "df_raw[\"context\"].fillna(\"\",inplace=True)\n",
        "\n",
        "df_raw.isnull().sum()"
      ],
      "execution_count": null,
      "outputs": [
        {
          "output_type": "execute_result",
          "data": {
            "text/plain": [
              "index                0\n",
              "ID                   0\n",
              "label                0\n",
              "statement            0\n",
              "subject              0\n",
              "speaker              0\n",
              "job                  0\n",
              "state                0\n",
              "party                0\n",
              "barely_true_cts      0\n",
              "false_cts            0\n",
              "half_true_cts        0\n",
              "mostly_true_cts      0\n",
              "pants_on_fire_cts    0\n",
              "context              0\n",
              "dtype: int64"
            ]
          },
          "metadata": {
            "tags": []
          },
          "execution_count": 20
        }
      ]
    },
    {
      "cell_type": "code",
      "metadata": {
        "colab": {
          "base_uri": "https://localhost:8080/"
        },
        "id": "08RbydX9kXUP",
        "outputId": "f96af372-98e9-4eb8-c159-a846c43c938e"
      },
      "source": [
        "import numpy as np\n",
        "import nltk\n",
        "from nltk.corpus import stopwords\n",
        "import string\n",
        "#Need to download stopwords\n",
        "nltk.download('stopwords')"
      ],
      "execution_count": null,
      "outputs": [
        {
          "output_type": "stream",
          "text": [
            "[nltk_data] Downloading package stopwords to /root/nltk_data...\n",
            "[nltk_data]   Unzipping corpora/stopwords.zip.\n"
          ],
          "name": "stdout"
        },
        {
          "output_type": "execute_result",
          "data": {
            "text/plain": [
              "True"
            ]
          },
          "metadata": {
            "tags": []
          },
          "execution_count": 21
        }
      ]
    },
    {
      "cell_type": "code",
      "metadata": {
        "id": "P4buFZfokaVU"
      },
      "source": [
        "#Tokenization (a list of tokens), will be used as the analyzer\n",
        "#1.Punctuations are [!\"#$%&'()*+,-./:;<=>?@[\\]^_`{|}~]\n",
        "#2.Stop words in natural language processing, are useless words (data).\n",
        "import re\n",
        "def process_text(text):\n",
        "    \n",
        "    text = text.lower()\n",
        "    text = re.sub('\\[.*?\\]', '', text)\n",
        "    text = re.sub(\"\\\\W\",\" \",text) \n",
        "    text = re.sub('https?://\\S+|www\\.\\S+', '', text)\n",
        "    text = re.sub('<.*?>+', '', text)\n",
        "    text = re.sub('[%s]' % re.escape(string.punctuation), '', text)\n",
        "    text = re.sub('\\n', '', text)\n",
        "    text = re.sub('\\w*\\d\\w*', '', text) \n",
        "    \n",
        "    return text"
      ],
      "execution_count": null,
      "outputs": []
    },
    {
      "cell_type": "code",
      "metadata": {
        "colab": {
          "base_uri": "https://localhost:8080/"
        },
        "id": "jLJ7fTq_kfX-",
        "outputId": "cb34f6eb-244d-4ab5-841f-5734ad5d84c4"
      },
      "source": [
        "#Show the Tokenization (a list of tokens )\n",
        "df_raw['statement'].head().apply(process_text)"
      ],
      "execution_count": null,
      "outputs": [
        {
          "output_type": "execute_result",
          "data": {
            "text/plain": [
              "0    he  kirk  did violate pentagon rules  twice ac...\n",
              "1    texas has outstripped the national poverty rat...\n",
              "2    as mayor  every year i was in office i did red...\n",
              "3    president obama has spent over   million in le...\n",
              "4    woodrow wilson borrowed   billion to fund worl...\n",
              "Name: statement, dtype: object"
            ]
          },
          "metadata": {
            "tags": []
          },
          "execution_count": 23
        }
      ]
    },
    {
      "cell_type": "code",
      "metadata": {
        "id": "NKpn93xXkh6R"
      },
      "source": [
        "from sklearn.feature_extraction.text import TfidfVectorizer\n",
        "vectorization = TfidfVectorizer()\n",
        "messages_bow = vectorization.fit_transform(df_raw['statement'])"
      ],
      "execution_count": null,
      "outputs": []
    },
    {
      "cell_type": "code",
      "metadata": {
        "colab": {
          "base_uri": "https://localhost:8080/"
        },
        "id": "59u8_O3PknFy",
        "outputId": "367d1cc0-7244-4eec-fbcb-2b1d58d38d2d"
      },
      "source": [
        "#Get the shape of messages_bow\n",
        "messages_bow.shape"
      ],
      "execution_count": null,
      "outputs": [
        {
          "output_type": "execute_result",
          "data": {
            "text/plain": [
              "(11507, 12873)"
            ]
          },
          "metadata": {
            "tags": []
          },
          "execution_count": 25
        }
      ]
    },
    {
      "cell_type": "code",
      "metadata": {
        "id": "Ome_5I-kkpBl"
      },
      "source": [
        "#Split data into 75% training & 25% testing data sets\n",
        "from sklearn.model_selection import train_test_split\n",
        "x_train,x_test,y_train,y_test=train_test_split(messages_bow, df_raw['label'], test_size=0.25, random_state=7, shuffle=True)\n"
      ],
      "execution_count": null,
      "outputs": []
    },
    {
      "cell_type": "markdown",
      "metadata": {
        "id": "mkT1QFx9lg7m"
      },
      "source": [
        "# Logistic Regression"
      ]
    },
    {
      "cell_type": "code",
      "metadata": {
        "colab": {
          "base_uri": "https://localhost:8080/"
        },
        "id": "rrViDdrTlgE1",
        "outputId": "d9a1282a-a499-4507-a678-37cb5f16caab"
      },
      "source": [
        "from sklearn.linear_model import LogisticRegression\n",
        "from sklearn import metrics\n",
        "\n",
        "logreg = LogisticRegression()\n",
        "logreg.fit(x_train, y_train)"
      ],
      "execution_count": null,
      "outputs": [
        {
          "output_type": "stream",
          "text": [
            "/usr/local/lib/python3.7/dist-packages/sklearn/linear_model/_logistic.py:940: ConvergenceWarning: lbfgs failed to converge (status=1):\n",
            "STOP: TOTAL NO. of ITERATIONS REACHED LIMIT.\n",
            "\n",
            "Increase the number of iterations (max_iter) or scale the data as shown in:\n",
            "    https://scikit-learn.org/stable/modules/preprocessing.html\n",
            "Please also refer to the documentation for alternative solver options:\n",
            "    https://scikit-learn.org/stable/modules/linear_model.html#logistic-regression\n",
            "  extra_warning_msg=_LOGISTIC_SOLVER_CONVERGENCE_MSG)\n"
          ],
          "name": "stderr"
        },
        {
          "output_type": "execute_result",
          "data": {
            "text/plain": [
              "LogisticRegression(C=1.0, class_weight=None, dual=False, fit_intercept=True,\n",
              "                   intercept_scaling=1, l1_ratio=None, max_iter=100,\n",
              "                   multi_class='auto', n_jobs=None, penalty='l2',\n",
              "                   random_state=None, solver='lbfgs', tol=0.0001, verbose=0,\n",
              "                   warm_start=False)"
            ]
          },
          "metadata": {
            "tags": []
          },
          "execution_count": 17
        }
      ]
    },
    {
      "cell_type": "code",
      "metadata": {
        "colab": {
          "base_uri": "https://localhost:8080/"
        },
        "id": "zwbEVQAyl9lE",
        "outputId": "1a3d2206-5953-48b6-fd40-998268476ef5"
      },
      "source": [
        "#Evaluate the model on the test data set\n",
        "from sklearn.metrics import classification_report,confusion_matrix, accuracy_score\n",
        "pred = logreg.predict(x_test)\n",
        "print(classification_report(y_test ,pred ))\n",
        "print('Confusion Matrix: \\n', confusion_matrix(y_test,pred))"
      ],
      "execution_count": null,
      "outputs": [
        {
          "output_type": "stream",
          "text": [
            "              precision    recall  f1-score   support\n",
            "\n",
            "       FALSE       0.28      0.33      0.31       598\n",
            "        TRUE       0.28      0.22      0.25       467\n",
            " barely-true       0.20      0.18      0.19       442\n",
            "   half-true       0.23      0.31      0.26       579\n",
            " mostly-true       0.23      0.26      0.25       558\n",
            "  pants-fire       0.36      0.02      0.04       233\n",
            "\n",
            "    accuracy                           0.25      2877\n",
            "   macro avg       0.26      0.22      0.22      2877\n",
            "weighted avg       0.26      0.25      0.24      2877\n",
            "\n",
            "Confusion Matrix: \n",
            " [[200  56  87 144 107   4]\n",
            " [ 97 103  43 112 112   0]\n",
            " [117  37  81 126  79   2]\n",
            " [115  63  77 178 143   3]\n",
            " [101  86  66 160 145   0]\n",
            " [ 75  20  45  55  33   5]]\n"
          ],
          "name": "stdout"
        }
      ]
    },
    {
      "cell_type": "code",
      "metadata": {
        "colab": {
          "base_uri": "https://localhost:8080/"
        },
        "id": "wXsdR56YmDMb",
        "outputId": "1a53c73e-2833-493b-f812-453fd35bb162"
      },
      "source": [
        "print('Accuracy: ', accuracy_score(y_test,pred))"
      ],
      "execution_count": null,
      "outputs": [
        {
          "output_type": "stream",
          "text": [
            "Accuracy:  0.24748001390337157\n"
          ],
          "name": "stdout"
        }
      ]
    },
    {
      "cell_type": "markdown",
      "metadata": {
        "id": "TJBjFFKplbZD"
      },
      "source": [
        "# Naive Bayes"
      ]
    },
    {
      "cell_type": "code",
      "metadata": {
        "id": "xzgU6dlOlAfD"
      },
      "source": [
        "from sklearn.naive_bayes import MultinomialNB\n",
        "classifier = MultinomialNB()\n",
        "classifier.fit(x_train, y_train)\n",
        "\n",
        "y_pred=classifier.predict(x_test)"
      ],
      "execution_count": null,
      "outputs": []
    },
    {
      "cell_type": "code",
      "metadata": {
        "colab": {
          "base_uri": "https://localhost:8080/"
        },
        "id": "Eyntl0ISlI98",
        "outputId": "76cfbf47-3abe-4c8c-b28a-6a251db58718"
      },
      "source": [
        "#Evaluate the model on the test data set\n",
        "from sklearn.metrics import classification_report,confusion_matrix, accuracy_score\n",
        "pred = classifier.predict(x_test)\n",
        "print(classification_report(y_test ,pred ))\n",
        "print('Confusion Matrix: \\n', confusion_matrix(y_test,pred))"
      ],
      "execution_count": null,
      "outputs": [
        {
          "output_type": "stream",
          "text": [
            "              precision    recall  f1-score   support\n",
            "\n",
            "       FALSE       0.29      0.23      0.25       598\n",
            "        TRUE       0.26      0.04      0.07       467\n",
            " barely-true       0.26      0.06      0.10       442\n",
            "   half-true       0.21      0.58      0.31       579\n",
            " mostly-true       0.22      0.27      0.24       558\n",
            "  pants-fire       0.00      0.00      0.00       233\n",
            "\n",
            "    accuracy                           0.23      2877\n",
            "   macro avg       0.21      0.19      0.16      2877\n",
            "weighted avg       0.23      0.23      0.19      2877\n",
            "\n",
            "Confusion Matrix: \n",
            " [[135  18  31 305 109   0]\n",
            " [ 66  19   7 242 133   0]\n",
            " [ 78   5  27 255  77   0]\n",
            " [ 67  14  15 334 149   0]\n",
            " [ 65  13   7 325 148   0]\n",
            " [ 52   4  16 119  42   0]]\n"
          ],
          "name": "stdout"
        },
        {
          "output_type": "stream",
          "text": [
            "/usr/local/lib/python3.7/dist-packages/sklearn/metrics/_classification.py:1272: UndefinedMetricWarning: Precision and F-score are ill-defined and being set to 0.0 in labels with no predicted samples. Use `zero_division` parameter to control this behavior.\n",
            "  _warn_prf(average, modifier, msg_start, len(result))\n"
          ],
          "name": "stderr"
        }
      ]
    },
    {
      "cell_type": "code",
      "metadata": {
        "colab": {
          "base_uri": "https://localhost:8080/"
        },
        "id": "efAtzRYKlRkG",
        "outputId": "eb83d6b5-3a77-47fa-a847-d6a6f2d99461"
      },
      "source": [
        "print('Accuracy: ', accuracy_score(y_test,pred))"
      ],
      "execution_count": null,
      "outputs": [
        {
          "output_type": "stream",
          "text": [
            "Accuracy:  0.23044838373305526\n"
          ],
          "name": "stdout"
        }
      ]
    },
    {
      "cell_type": "markdown",
      "metadata": {
        "id": "muPIsJTRnRfM"
      },
      "source": [
        "# KNN"
      ]
    },
    {
      "cell_type": "code",
      "metadata": {
        "colab": {
          "base_uri": "https://localhost:8080/"
        },
        "id": "TdXV2BOsnS_G",
        "outputId": "8fb43d56-de52-4bf9-b063-e5ad50de2f15"
      },
      "source": [
        "from sklearn.neighbors import KNeighborsClassifier\n",
        "\n",
        "# Clustering the document with KNN classifier\n",
        "modelknn = KNeighborsClassifier(n_neighbors=5)\n",
        "modelknn.fit(x_train,y_train)"
      ],
      "execution_count": null,
      "outputs": [
        {
          "output_type": "execute_result",
          "data": {
            "text/plain": [
              "KNeighborsClassifier(algorithm='auto', leaf_size=30, metric='minkowski',\n",
              "                     metric_params=None, n_jobs=None, n_neighbors=5, p=2,\n",
              "                     weights='uniform')"
            ]
          },
          "metadata": {
            "tags": []
          },
          "execution_count": 23
        }
      ]
    },
    {
      "cell_type": "code",
      "metadata": {
        "colab": {
          "base_uri": "https://localhost:8080/"
        },
        "id": "4XYg_5NbnWkD",
        "outputId": "db5a829a-f7ef-400c-eac9-faa8fca788a9"
      },
      "source": [
        "#Evaluate the model on the test data set\n",
        "from sklearn.metrics import classification_report,confusion_matrix, accuracy_score\n",
        "pred = modelknn.predict(x_test)\n",
        "print(classification_report(y_test ,pred ))\n",
        "print('Confusion Matrix: \\n', confusion_matrix(y_test,pred))"
      ],
      "execution_count": null,
      "outputs": [
        {
          "output_type": "stream",
          "text": [
            "              precision    recall  f1-score   support\n",
            "\n",
            "       FALSE       0.25      0.37      0.29       598\n",
            "        TRUE       0.20      0.22      0.21       467\n",
            " barely-true       0.17      0.17      0.17       442\n",
            "   half-true       0.23      0.23      0.23       579\n",
            " mostly-true       0.26      0.17      0.21       558\n",
            "  pants-fire       0.17      0.06      0.09       233\n",
            "\n",
            "    accuracy                           0.22      2877\n",
            "   macro avg       0.21      0.20      0.20      2877\n",
            "weighted avg       0.22      0.22      0.22      2877\n",
            "\n",
            "Confusion Matrix: \n",
            " [[219 104  89 110  60  16]\n",
            " [133 104  63  79  75  13]\n",
            " [135  69  73  98  51  16]\n",
            " [158 108  82 134  75  22]\n",
            " [155 111  76 111  97   8]\n",
            " [ 90  28  37  44  19  15]]\n"
          ],
          "name": "stdout"
        }
      ]
    },
    {
      "cell_type": "code",
      "metadata": {
        "colab": {
          "base_uri": "https://localhost:8080/"
        },
        "id": "QHtMfX4enlYf",
        "outputId": "ca47171c-0e7f-419a-da33-f131eef1f863"
      },
      "source": [
        "print('Accuracy: ', accuracy_score(y_test,pred))"
      ],
      "execution_count": null,
      "outputs": [
        {
          "output_type": "stream",
          "text": [
            "Accuracy:  0.22314911366006257\n"
          ],
          "name": "stdout"
        }
      ]
    },
    {
      "cell_type": "markdown",
      "metadata": {
        "id": "_E6Nx-spVpPF"
      },
      "source": [
        "# RANDOM FOREST"
      ]
    },
    {
      "cell_type": "code",
      "metadata": {
        "id": "w7LtO5X-Vr5W",
        "colab": {
          "base_uri": "https://localhost:8080/"
        },
        "outputId": "e32d5fd2-3377-4724-b360-ad2cb84dcec0"
      },
      "source": [
        "#Import Random Forest Model\n",
        "from sklearn.ensemble import RandomForestClassifier\n",
        "\n",
        "#Create a Gaussian Classifier\n",
        "clf=RandomForestClassifier(n_estimators=100)\n",
        "\n",
        "#Train the model using the training sets y_pred=clf.predict(X_test)\n",
        "clf.fit(x_train,y_train)\n",
        "\n",
        "y_pred=clf.predict(x_test)\n",
        "\n",
        "#Import scikit-learn metrics module for accuracy calculation\n",
        "from sklearn import metrics\n",
        "from sklearn.metrics import classification_report,confusion_matrix, accuracy_score\n",
        "#Model Evaluation on test set\n",
        "\n",
        "print(classification_report(y_test,y_pred))\n",
        "print('Confusion Matrix: \\n', confusion_matrix(y_test,y_pred))"
      ],
      "execution_count": null,
      "outputs": [
        {
          "output_type": "stream",
          "text": [
            "              precision    recall  f1-score   support\n",
            "\n",
            "       FALSE       0.27      0.38      0.31       598\n",
            "        TRUE       0.22      0.15      0.18       467\n",
            " barely-true       0.22      0.15      0.18       442\n",
            "   half-true       0.23      0.30      0.26       579\n",
            " mostly-true       0.23      0.27      0.25       558\n",
            "  pants-fire       0.54      0.06      0.10       233\n",
            "\n",
            "    accuracy                           0.24      2877\n",
            "   macro avg       0.29      0.22      0.21      2877\n",
            "weighted avg       0.26      0.24      0.23      2877\n",
            "\n",
            "Confusion Matrix: \n",
            " [[228  61  53 152  99   5]\n",
            " [108  68  36 117 137   1]\n",
            " [140  35  65 122  79   1]\n",
            " [157  56  52 174 138   2]\n",
            " [131  77  49 151 148   2]\n",
            " [ 88  12  34  53  33  13]]\n"
          ],
          "name": "stdout"
        }
      ]
    },
    {
      "cell_type": "code",
      "metadata": {
        "id": "NM9msdwGVtep",
        "colab": {
          "base_uri": "https://localhost:8080/"
        },
        "outputId": "834667e0-8351-42fa-f35f-0c6759a4a380"
      },
      "source": [
        "print('Accuracy: ', accuracy_score(y_test,y_pred))"
      ],
      "execution_count": null,
      "outputs": [
        {
          "output_type": "stream",
          "text": [
            "Accuracy:  0.24191866527632952\n"
          ],
          "name": "stdout"
        }
      ]
    },
    {
      "cell_type": "markdown",
      "metadata": {
        "id": "vefXkJsIV2lb"
      },
      "source": [
        "# SUPPORT VECTOR MACHINE (SVM)"
      ]
    },
    {
      "cell_type": "code",
      "metadata": {
        "id": "nwQ01G5uWClQ"
      },
      "source": [
        "#Import svm model\n",
        "from sklearn import svm\n",
        "\n",
        "#Create a svm Classifier\n",
        "clf = svm.SVC(kernel=\"poly\")\n",
        "#Train the model using the training sets\n",
        "clf.fit(x_train, y_train)\n",
        "\n",
        "#Predict the response for test dataset\n",
        "y_pred = clf.predict(x_test)"
      ],
      "execution_count": null,
      "outputs": []
    },
    {
      "cell_type": "code",
      "metadata": {
        "id": "JYsPaXa4WGfx",
        "colab": {
          "base_uri": "https://localhost:8080/"
        },
        "outputId": "2978077d-7700-4e89-bc8e-8229532d2be2"
      },
      "source": [
        "#Evaluate the model on the test data set\n",
        "from sklearn.metrics import classification_report,confusion_matrix, accuracy_score\n",
        "print(classification_report(y_test ,y_pred))\n",
        "print('Confusion Matrix: \\n', confusion_matrix(y_test,pred))"
      ],
      "execution_count": null,
      "outputs": [
        {
          "output_type": "stream",
          "text": [
            "              precision    recall  f1-score   support\n",
            "\n",
            "       FALSE       0.34      0.14      0.20       598\n",
            "        TRUE       0.48      0.03      0.05       467\n",
            " barely-true       0.50      0.02      0.05       442\n",
            "   half-true       0.21      0.85      0.33       579\n",
            " mostly-true       0.30      0.11      0.16       558\n",
            "  pants-fire       1.00      0.01      0.03       233\n",
            "\n",
            "    accuracy                           0.23      2877\n",
            "   macro avg       0.47      0.19      0.14      2877\n",
            "weighted avg       0.41      0.23      0.16      2877\n",
            "\n",
            "Confusion Matrix: \n",
            " [[ 86   0   3 484  25   0]\n",
            " [ 31  13   1 384  38   0]\n",
            " [ 49   4  11 357  21   0]\n",
            " [ 28   5   4 494  48   0]\n",
            " [ 36   5   3 455  59   0]\n",
            " [ 26   0   0 198   6   3]]\n"
          ],
          "name": "stdout"
        }
      ]
    },
    {
      "cell_type": "code",
      "metadata": {
        "id": "b42-wa928DXp"
      },
      "source": [
        "print('Accuracy: ', accuracy_score(y_test,pred))"
      ],
      "execution_count": null,
      "outputs": []
    },
    {
      "cell_type": "markdown",
      "metadata": {
        "id": "-IMs0tEsaYAM"
      },
      "source": [
        "# Decision Tree\n"
      ]
    },
    {
      "cell_type": "code",
      "metadata": {
        "id": "HWcqAYRKX19p"
      },
      "source": [
        "# Import Decision Tree Classifier\n",
        "from sklearn.tree import DecisionTreeClassifier "
      ],
      "execution_count": null,
      "outputs": []
    },
    {
      "cell_type": "code",
      "metadata": {
        "id": "3HOmlT11ac4C"
      },
      "source": [
        "# Create Decision Tree classifer object\n",
        "clf = DecisionTreeClassifier()\n",
        "\n",
        "# Train Decision Tree Classifer\n",
        "clf = clf.fit(x_train,y_train)\n",
        "\n",
        "#Predict the response for test dataset\n",
        "y_pred = clf.predict(x_test)"
      ],
      "execution_count": null,
      "outputs": []
    },
    {
      "cell_type": "code",
      "metadata": {
        "colab": {
          "base_uri": "https://localhost:8080/"
        },
        "id": "lCFAIU5ScCTQ",
        "outputId": "c5161c84-d316-46f5-edaa-85946704a3a6"
      },
      "source": [
        "#Evaluate the model on the test data set\n",
        "from sklearn.metrics import classification_report,confusion_matrix, accuracy_score \n",
        "print(classification_report(y_test ,y_pred))\n",
        "print('Confusion Matrix: \\n', confusion_matrix(y_test,y_pred))"
      ],
      "execution_count": null,
      "outputs": [
        {
          "output_type": "stream",
          "text": [
            "              precision    recall  f1-score   support\n",
            "\n",
            "       FALSE       0.24      0.27      0.25       557\n",
            "        TRUE       0.19      0.16      0.17       468\n",
            " barely-true       0.18      0.18      0.18       474\n",
            "   half-true       0.20      0.20      0.20       605\n",
            " mostly-true       0.22      0.23      0.22       558\n",
            "  pants-fire       0.12      0.12      0.12       215\n",
            "\n",
            "    accuracy                           0.20      2877\n",
            "   macro avg       0.19      0.19      0.19      2877\n",
            "weighted avg       0.20      0.20      0.20      2877\n",
            "\n",
            "Confusion Matrix: \n",
            " [[148  65  88 121  90  45]\n",
            " [ 93  74  63  99 108  31]\n",
            " [ 99  49  83 114  88  41]\n",
            " [129  89  97 124 134  32]\n",
            " [ 98  90  86 119 129  36]\n",
            " [ 52  16  46  36  40  25]]\n"
          ],
          "name": "stdout"
        }
      ]
    },
    {
      "cell_type": "code",
      "metadata": {
        "colab": {
          "base_uri": "https://localhost:8080/"
        },
        "id": "j_RAEXVecFTv",
        "outputId": "e5edd0ca-fb32-4d7a-9341-8fd8af43c039"
      },
      "source": [
        "# Model Accuracy, how often is the classifier correct?\n",
        "print(\"Accuracy:\",accuracy_score(y_test, y_pred))"
      ],
      "execution_count": null,
      "outputs": [
        {
          "output_type": "stream",
          "text": [
            "Accuracy: 0.20264164059784498\n"
          ],
          "name": "stdout"
        }
      ]
    }
  ]
}