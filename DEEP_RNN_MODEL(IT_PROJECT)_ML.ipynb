{
  "nbformat": 4,
  "nbformat_minor": 0,
  "metadata": {
    "kernelspec": {
      "display_name": "Python 3",
      "language": "python",
      "name": "python3"
    },
    "language_info": {
      "codemirror_mode": {
        "name": "ipython",
        "version": 3
      },
      "file_extension": ".py",
      "mimetype": "text/x-python",
      "name": "python",
      "nbconvert_exporter": "python",
      "pygments_lexer": "ipython3",
      "version": "3.7.6"
    },
    "papermill": {
      "duration": 2724.650172,
      "end_time": "2020-10-06T22:04:52.151005",
      "environment_variables": {},
      "exception": null,
      "input_path": "__notebook__.ipynb",
      "output_path": "__notebook__.ipynb",
      "parameters": {},
      "start_time": "2020-10-06T21:19:27.500833",
      "version": "2.1.0"
    },
    "colab": {
      "name": "DEEP RNN MODEL(IT PROJECT)-ML.ipynb",
      "provenance": []
    },
    "accelerator": "GPU"
  },
  "cells": [
    {
      "cell_type": "markdown",
      "metadata": {
        "papermill": {
          "duration": 0.030876,
          "end_time": "2020-10-06T21:19:31.915205",
          "exception": false,
          "start_time": "2020-10-06T21:19:31.884329",
          "status": "completed"
        },
        "tags": [],
        "id": "nmxgwM5VMQa1"
      },
      "source": [
        "# Imports"
      ]
    },
    {
      "cell_type": "code",
      "metadata": {
        "execution": {
          "iopub.execute_input": "2020-10-06T21:19:31.986613Z",
          "iopub.status.busy": "2020-10-06T21:19:31.985943Z",
          "iopub.status.idle": "2020-10-06T21:19:41.514922Z",
          "shell.execute_reply": "2020-10-06T21:19:41.515686Z"
        },
        "papermill": {
          "duration": 9.569887,
          "end_time": "2020-10-06T21:19:41.515898",
          "exception": false,
          "start_time": "2020-10-06T21:19:31.946011",
          "status": "completed"
        },
        "tags": [],
        "colab": {
          "base_uri": "https://localhost:8080/"
        },
        "id": "ahU7tFUmMQa2",
        "outputId": "9789e612-f1fa-4a97-8fd9-2c8c1d7b796b"
      },
      "source": [
        "import re\n",
        "import matplotlib.pyplot as plt\n",
        "import string\n",
        "from nltk.corpus import stopwords\n",
        "import nltk\n",
        "from nltk.corpus import wordnet\n",
        "from nltk.stem import WordNetLemmatizer\n",
        "from nltk.tokenize.treebank import TreebankWordDetokenizer\n",
        "from collections import Counter\n",
        "from wordcloud import WordCloud\n",
        "from nltk.corpus import stopwords\n",
        "import nltk\n",
        "from gensim.utils import simple_preprocess\n",
        "from nltk.corpus import stopwords\n",
        "import gensim\n",
        "from sklearn.model_selection import train_test_split\n",
        "import spacy\n",
        "import pickle\n",
        "import warnings\n",
        "warnings.filterwarnings('ignore')\n",
        "import seaborn as sns\n",
        "from sklearn.metrics import confusion_matrix\n",
        "import matplotlib.pyplot as plt \n",
        "import tensorflow as tf\n",
        "import keras\n",
        "import numpy as np\n",
        "import pandas as pd\n",
        "print('Done')"
      ],
      "execution_count": null,
      "outputs": [
        {
          "output_type": "stream",
          "text": [
            "Done\n"
          ],
          "name": "stdout"
        }
      ]
    },
    {
      "cell_type": "code",
      "metadata": {
        "colab": {
          "base_uri": "https://localhost:8080/"
        },
        "id": "W59vnuSCM0UH",
        "outputId": "3d4da729-6ce5-4c31-aac6-823867a4a09a"
      },
      "source": [
        "from google.colab import drive\n",
        "drive.mount(\"/content/drive\")"
      ],
      "execution_count": null,
      "outputs": [
        {
          "output_type": "stream",
          "text": [
            "Mounted at /content/drive\n"
          ],
          "name": "stdout"
        }
      ]
    },
    {
      "cell_type": "markdown",
      "metadata": {
        "papermill": {
          "duration": 0.032245,
          "end_time": "2020-10-06T21:19:41.583484",
          "exception": false,
          "start_time": "2020-10-06T21:19:41.551239",
          "status": "completed"
        },
        "tags": [],
        "id": "6FbD3YDsMQa4"
      },
      "source": [
        "# Data importing"
      ]
    },
    {
      "cell_type": "code",
      "metadata": {
        "_cell_guid": "79c7e3d0-c299-4dcb-8224-4455121ee9b0",
        "_uuid": "d629ff2d2480ee46fbb7e2d37f6b5fab8052498a",
        "execution": {
          "iopub.execute_input": "2020-10-06T21:19:41.667156Z",
          "iopub.status.busy": "2020-10-06T21:19:41.666425Z",
          "iopub.status.idle": "2020-10-06T21:19:41.753917Z",
          "shell.execute_reply": "2020-10-06T21:19:41.752384Z"
        },
        "papermill": {
          "duration": 0.132806,
          "end_time": "2020-10-06T21:19:41.754037",
          "exception": false,
          "start_time": "2020-10-06T21:19:41.621231",
          "status": "completed"
        },
        "tags": [],
        "id": "NigMF-33MQa4"
      },
      "source": [
        "train = pd.read_csv('/content/drive/MyDrive/train.csv')"
      ],
      "execution_count": null,
      "outputs": []
    },
    {
      "cell_type": "markdown",
      "metadata": {
        "papermill": {
          "duration": 0.031706,
          "end_time": "2020-10-06T21:19:41.817762",
          "exception": false,
          "start_time": "2020-10-06T21:19:41.786056",
          "status": "completed"
        },
        "tags": [],
        "id": "XITtMOPXMQa5"
      },
      "source": [
        "# Data exploration"
      ]
    },
    {
      "cell_type": "code",
      "metadata": {
        "execution": {
          "iopub.execute_input": "2020-10-06T21:19:41.898583Z",
          "iopub.status.busy": "2020-10-06T21:19:41.897942Z",
          "iopub.status.idle": "2020-10-06T21:19:41.908219Z",
          "shell.execute_reply": "2020-10-06T21:19:41.908804Z"
        },
        "papermill": {
          "duration": 0.05902,
          "end_time": "2020-10-06T21:19:41.908931",
          "exception": false,
          "start_time": "2020-10-06T21:19:41.849911",
          "status": "completed"
        },
        "tags": [],
        "colab": {
          "base_uri": "https://localhost:8080/",
          "height": 340
        },
        "id": "pA-4xgPUMQa6",
        "outputId": "9f9756ed-1177-4f5f-bbaf-91699dc26110"
      },
      "source": [
        "train.head()"
      ],
      "execution_count": null,
      "outputs": [
        {
          "output_type": "execute_result",
          "data": {
            "text/html": [
              "<div>\n",
              "<style scoped>\n",
              "    .dataframe tbody tr th:only-of-type {\n",
              "        vertical-align: middle;\n",
              "    }\n",
              "\n",
              "    .dataframe tbody tr th {\n",
              "        vertical-align: top;\n",
              "    }\n",
              "\n",
              "    .dataframe thead th {\n",
              "        text-align: right;\n",
              "    }\n",
              "</style>\n",
              "<table border=\"1\" class=\"dataframe\">\n",
              "  <thead>\n",
              "    <tr style=\"text-align: right;\">\n",
              "      <th></th>\n",
              "      <th>ID</th>\n",
              "      <th>Label</th>\n",
              "      <th>Statement</th>\n",
              "      <th>Subject</th>\n",
              "      <th>Speaker</th>\n",
              "      <th>Speaker's Job Title</th>\n",
              "      <th>State</th>\n",
              "      <th>Party</th>\n",
              "      <th>Barely True Count</th>\n",
              "      <th>False Count</th>\n",
              "      <th>Half True Count</th>\n",
              "      <th>Mostly True Count</th>\n",
              "      <th>Pants on Fire</th>\n",
              "      <th>Context</th>\n",
              "    </tr>\n",
              "  </thead>\n",
              "  <tbody>\n",
              "    <tr>\n",
              "      <th>0</th>\n",
              "      <td>2635.json</td>\n",
              "      <td>FALSE</td>\n",
              "      <td>Says the Annies List political group supports ...</td>\n",
              "      <td>abortion</td>\n",
              "      <td>dwayne-bohac</td>\n",
              "      <td>State representative</td>\n",
              "      <td>Texas</td>\n",
              "      <td>republican</td>\n",
              "      <td>0.0</td>\n",
              "      <td>1.0</td>\n",
              "      <td>0.0</td>\n",
              "      <td>0.0</td>\n",
              "      <td>0.0</td>\n",
              "      <td>a mailer</td>\n",
              "    </tr>\n",
              "    <tr>\n",
              "      <th>1</th>\n",
              "      <td>10540.json</td>\n",
              "      <td>half-true</td>\n",
              "      <td>When did the decline of coal start? It started...</td>\n",
              "      <td>energy,history,job-accomplishments</td>\n",
              "      <td>scott-surovell</td>\n",
              "      <td>State delegate</td>\n",
              "      <td>Virginia</td>\n",
              "      <td>democrat</td>\n",
              "      <td>0.0</td>\n",
              "      <td>0.0</td>\n",
              "      <td>1.0</td>\n",
              "      <td>1.0</td>\n",
              "      <td>0.0</td>\n",
              "      <td>a floor speech.</td>\n",
              "    </tr>\n",
              "    <tr>\n",
              "      <th>2</th>\n",
              "      <td>324.json</td>\n",
              "      <td>mostly-true</td>\n",
              "      <td>Hillary Clinton agrees with John McCain \"by vo...</td>\n",
              "      <td>foreign-policy</td>\n",
              "      <td>barack-obama</td>\n",
              "      <td>President</td>\n",
              "      <td>Illinois</td>\n",
              "      <td>democrat</td>\n",
              "      <td>70.0</td>\n",
              "      <td>71.0</td>\n",
              "      <td>160.0</td>\n",
              "      <td>163.0</td>\n",
              "      <td>9.0</td>\n",
              "      <td>Denver</td>\n",
              "    </tr>\n",
              "    <tr>\n",
              "      <th>3</th>\n",
              "      <td>1123.json</td>\n",
              "      <td>FALSE</td>\n",
              "      <td>Health care reform legislation is likely to ma...</td>\n",
              "      <td>health-care</td>\n",
              "      <td>blog-posting</td>\n",
              "      <td>NaN</td>\n",
              "      <td>NaN</td>\n",
              "      <td>none</td>\n",
              "      <td>7.0</td>\n",
              "      <td>19.0</td>\n",
              "      <td>3.0</td>\n",
              "      <td>5.0</td>\n",
              "      <td>44.0</td>\n",
              "      <td>a news release</td>\n",
              "    </tr>\n",
              "    <tr>\n",
              "      <th>4</th>\n",
              "      <td>9028.json</td>\n",
              "      <td>half-true</td>\n",
              "      <td>The economic turnaround started at the end of ...</td>\n",
              "      <td>economy,jobs</td>\n",
              "      <td>charlie-crist</td>\n",
              "      <td>NaN</td>\n",
              "      <td>Florida</td>\n",
              "      <td>democrat</td>\n",
              "      <td>15.0</td>\n",
              "      <td>9.0</td>\n",
              "      <td>20.0</td>\n",
              "      <td>19.0</td>\n",
              "      <td>2.0</td>\n",
              "      <td>an interview on CNN</td>\n",
              "    </tr>\n",
              "  </tbody>\n",
              "</table>\n",
              "</div>"
            ],
            "text/plain": [
              "          ID         Label  ... Pants on Fire              Context\n",
              "0   2635.json        FALSE  ...           0.0             a mailer\n",
              "1  10540.json    half-true  ...           0.0      a floor speech.\n",
              "2    324.json  mostly-true  ...           9.0               Denver\n",
              "3   1123.json        FALSE  ...          44.0       a news release\n",
              "4   9028.json    half-true  ...           2.0  an interview on CNN\n",
              "\n",
              "[5 rows x 14 columns]"
            ]
          },
          "metadata": {
            "tags": []
          },
          "execution_count": 4
        }
      ]
    },
    {
      "cell_type": "code",
      "metadata": {
        "execution": {
          "iopub.execute_input": "2020-10-06T21:19:41.980569Z",
          "iopub.status.busy": "2020-10-06T21:19:41.979730Z",
          "iopub.status.idle": "2020-10-06T21:19:41.983566Z",
          "shell.execute_reply": "2020-10-06T21:19:41.983073Z"
        },
        "papermill": {
          "duration": 0.041264,
          "end_time": "2020-10-06T21:19:41.983666",
          "exception": false,
          "start_time": "2020-10-06T21:19:41.942402",
          "status": "completed"
        },
        "tags": [],
        "colab": {
          "base_uri": "https://localhost:8080/"
        },
        "id": "wOGdosy-MQa6",
        "outputId": "2f18a89d-6b9d-4db7-d567-877c918f0c44"
      },
      "source": [
        "#Let's get the dataset lenght\n",
        "len(train)"
      ],
      "execution_count": null,
      "outputs": [
        {
          "output_type": "execute_result",
          "data": {
            "text/plain": [
              "10240"
            ]
          },
          "metadata": {
            "tags": []
          },
          "execution_count": 5
        }
      ]
    },
    {
      "cell_type": "code",
      "metadata": {
        "execution": {
          "iopub.execute_input": "2020-10-06T21:19:42.060070Z",
          "iopub.status.busy": "2020-10-06T21:19:42.059141Z",
          "iopub.status.idle": "2020-10-06T21:19:42.064587Z",
          "shell.execute_reply": "2020-10-06T21:19:42.064115Z"
        },
        "papermill": {
          "duration": 0.047577,
          "end_time": "2020-10-06T21:19:42.064691",
          "exception": false,
          "start_time": "2020-10-06T21:19:42.017114",
          "status": "completed"
        },
        "tags": [],
        "colab": {
          "base_uri": "https://localhost:8080/"
        },
        "id": "oB7vKFtUMQa7",
        "outputId": "b05e44d5-412a-48a8-afde-38a827591965"
      },
      "source": [
        "#Is there any other different value than neutral, negative and positive?\n",
        "train['Label'].unique()"
      ],
      "execution_count": null,
      "outputs": [
        {
          "output_type": "execute_result",
          "data": {
            "text/plain": [
              "array(['FALSE', 'half-true', 'mostly-true', 'TRUE', 'barely-true',\n",
              "       'pants-fire'], dtype=object)"
            ]
          },
          "metadata": {
            "tags": []
          },
          "execution_count": 6
        }
      ]
    },
    {
      "cell_type": "code",
      "metadata": {
        "execution": {
          "iopub.execute_input": "2020-10-06T21:19:42.143106Z",
          "iopub.status.busy": "2020-10-06T21:19:42.142318Z",
          "iopub.status.idle": "2020-10-06T21:19:42.185676Z",
          "shell.execute_reply": "2020-10-06T21:19:42.186310Z"
        },
        "papermill": {
          "duration": 0.088183,
          "end_time": "2020-10-06T21:19:42.186453",
          "exception": false,
          "start_time": "2020-10-06T21:19:42.098270",
          "status": "completed"
        },
        "tags": [],
        "colab": {
          "base_uri": "https://localhost:8080/",
          "height": 317
        },
        "id": "Maq5sPOCMQa8",
        "outputId": "d27de6a4-6a42-4c43-a752-51fdab1c8556"
      },
      "source": [
        "#How's distributed the dataset? Is it biased?\n",
        "train.groupby('Label').nunique()"
      ],
      "execution_count": null,
      "outputs": [
        {
          "output_type": "execute_result",
          "data": {
            "text/html": [
              "<div>\n",
              "<style scoped>\n",
              "    .dataframe tbody tr th:only-of-type {\n",
              "        vertical-align: middle;\n",
              "    }\n",
              "\n",
              "    .dataframe tbody tr th {\n",
              "        vertical-align: top;\n",
              "    }\n",
              "\n",
              "    .dataframe thead th {\n",
              "        text-align: right;\n",
              "    }\n",
              "</style>\n",
              "<table border=\"1\" class=\"dataframe\">\n",
              "  <thead>\n",
              "    <tr style=\"text-align: right;\">\n",
              "      <th></th>\n",
              "      <th>ID</th>\n",
              "      <th>Statement</th>\n",
              "      <th>Subject</th>\n",
              "      <th>Speaker</th>\n",
              "      <th>Speaker's Job Title</th>\n",
              "      <th>State</th>\n",
              "      <th>Party</th>\n",
              "      <th>Barely True Count</th>\n",
              "      <th>False Count</th>\n",
              "      <th>Half True Count</th>\n",
              "      <th>Mostly True Count</th>\n",
              "      <th>Pants on Fire</th>\n",
              "      <th>Context</th>\n",
              "    </tr>\n",
              "    <tr>\n",
              "      <th>Label</th>\n",
              "      <th></th>\n",
              "      <th></th>\n",
              "      <th></th>\n",
              "      <th></th>\n",
              "      <th></th>\n",
              "      <th></th>\n",
              "      <th></th>\n",
              "      <th></th>\n",
              "      <th></th>\n",
              "      <th></th>\n",
              "      <th></th>\n",
              "      <th></th>\n",
              "      <th></th>\n",
              "    </tr>\n",
              "  </thead>\n",
              "  <tbody>\n",
              "    <tr>\n",
              "      <th>FALSE</th>\n",
              "      <td>1995</td>\n",
              "      <td>1988</td>\n",
              "      <td>1036</td>\n",
              "      <td>934</td>\n",
              "      <td>400</td>\n",
              "      <td>49</td>\n",
              "      <td>18</td>\n",
              "      <td>30</td>\n",
              "      <td>30</td>\n",
              "      <td>29</td>\n",
              "      <td>27</td>\n",
              "      <td>20</td>\n",
              "      <td>1173</td>\n",
              "    </tr>\n",
              "    <tr>\n",
              "      <th>TRUE</th>\n",
              "      <td>1676</td>\n",
              "      <td>1674</td>\n",
              "      <td>835</td>\n",
              "      <td>842</td>\n",
              "      <td>386</td>\n",
              "      <td>49</td>\n",
              "      <td>15</td>\n",
              "      <td>30</td>\n",
              "      <td>30</td>\n",
              "      <td>29</td>\n",
              "      <td>27</td>\n",
              "      <td>18</td>\n",
              "      <td>1000</td>\n",
              "    </tr>\n",
              "    <tr>\n",
              "      <th>barely-true</th>\n",
              "      <td>1654</td>\n",
              "      <td>1654</td>\n",
              "      <td>923</td>\n",
              "      <td>813</td>\n",
              "      <td>340</td>\n",
              "      <td>50</td>\n",
              "      <td>14</td>\n",
              "      <td>29</td>\n",
              "      <td>30</td>\n",
              "      <td>29</td>\n",
              "      <td>27</td>\n",
              "      <td>20</td>\n",
              "      <td>951</td>\n",
              "    </tr>\n",
              "    <tr>\n",
              "      <th>half-true</th>\n",
              "      <td>2114</td>\n",
              "      <td>2112</td>\n",
              "      <td>1125</td>\n",
              "      <td>995</td>\n",
              "      <td>418</td>\n",
              "      <td>50</td>\n",
              "      <td>15</td>\n",
              "      <td>30</td>\n",
              "      <td>30</td>\n",
              "      <td>29</td>\n",
              "      <td>27</td>\n",
              "      <td>19</td>\n",
              "      <td>1167</td>\n",
              "    </tr>\n",
              "    <tr>\n",
              "      <th>mostly-true</th>\n",
              "      <td>1962</td>\n",
              "      <td>1962</td>\n",
              "      <td>1049</td>\n",
              "      <td>923</td>\n",
              "      <td>439</td>\n",
              "      <td>47</td>\n",
              "      <td>17</td>\n",
              "      <td>30</td>\n",
              "      <td>30</td>\n",
              "      <td>29</td>\n",
              "      <td>26</td>\n",
              "      <td>20</td>\n",
              "      <td>1149</td>\n",
              "    </tr>\n",
              "    <tr>\n",
              "      <th>pants-fire</th>\n",
              "      <td>839</td>\n",
              "      <td>839</td>\n",
              "      <td>506</td>\n",
              "      <td>425</td>\n",
              "      <td>202</td>\n",
              "      <td>46</td>\n",
              "      <td>14</td>\n",
              "      <td>30</td>\n",
              "      <td>30</td>\n",
              "      <td>28</td>\n",
              "      <td>26</td>\n",
              "      <td>19</td>\n",
              "      <td>542</td>\n",
              "    </tr>\n",
              "  </tbody>\n",
              "</table>\n",
              "</div>"
            ],
            "text/plain": [
              "              ID   Statement  ...  Pants on Fire  Context\n",
              "Label                         ...                        \n",
              "FALSE        1995       1988  ...             20     1173\n",
              "TRUE         1676       1674  ...             18     1000\n",
              "barely-true  1654       1654  ...             20      951\n",
              "half-true    2114       2112  ...             19     1167\n",
              "mostly-true  1962       1962  ...             20     1149\n",
              "pants-fire    839        839  ...             19      542\n",
              "\n",
              "[6 rows x 13 columns]"
            ]
          },
          "metadata": {
            "tags": []
          },
          "execution_count": 7
        }
      ]
    },
    {
      "cell_type": "markdown",
      "metadata": {
        "papermill": {
          "duration": 0.033994,
          "end_time": "2020-10-06T21:19:42.255666",
          "exception": false,
          "start_time": "2020-10-06T21:19:42.221672",
          "status": "completed"
        },
        "tags": [],
        "id": "Ipu0QQwpMQa8"
      },
      "source": [
        "# Data cleaning\n",
        "\n",
        "Even when the dataset is a little bit biased, we'll keep it this way because the differences are not significant."
      ]
    },
    {
      "cell_type": "code",
      "metadata": {
        "execution": {
          "iopub.execute_input": "2020-10-06T21:19:42.334657Z",
          "iopub.status.busy": "2020-10-06T21:19:42.333827Z",
          "iopub.status.idle": "2020-10-06T21:19:42.337209Z",
          "shell.execute_reply": "2020-10-06T21:19:42.337696Z"
        },
        "papermill": {
          "duration": 0.04812,
          "end_time": "2020-10-06T21:19:42.337823",
          "exception": false,
          "start_time": "2020-10-06T21:19:42.289703",
          "status": "completed"
        },
        "tags": [],
        "colab": {
          "base_uri": "https://localhost:8080/",
          "height": 204
        },
        "id": "5pjOC8L9MQa9",
        "outputId": "e83b421b-e241-4d0c-95b5-5f7acbc838c1"
      },
      "source": [
        "#Let's keep only the columns that we're going to use\n",
        "train = train[['Statement','Label']]\n",
        "train.head()"
      ],
      "execution_count": null,
      "outputs": [
        {
          "output_type": "execute_result",
          "data": {
            "text/html": [
              "<div>\n",
              "<style scoped>\n",
              "    .dataframe tbody tr th:only-of-type {\n",
              "        vertical-align: middle;\n",
              "    }\n",
              "\n",
              "    .dataframe tbody tr th {\n",
              "        vertical-align: top;\n",
              "    }\n",
              "\n",
              "    .dataframe thead th {\n",
              "        text-align: right;\n",
              "    }\n",
              "</style>\n",
              "<table border=\"1\" class=\"dataframe\">\n",
              "  <thead>\n",
              "    <tr style=\"text-align: right;\">\n",
              "      <th></th>\n",
              "      <th>Statement</th>\n",
              "      <th>Label</th>\n",
              "    </tr>\n",
              "  </thead>\n",
              "  <tbody>\n",
              "    <tr>\n",
              "      <th>0</th>\n",
              "      <td>Says the Annies List political group supports ...</td>\n",
              "      <td>FALSE</td>\n",
              "    </tr>\n",
              "    <tr>\n",
              "      <th>1</th>\n",
              "      <td>When did the decline of coal start? It started...</td>\n",
              "      <td>half-true</td>\n",
              "    </tr>\n",
              "    <tr>\n",
              "      <th>2</th>\n",
              "      <td>Hillary Clinton agrees with John McCain \"by vo...</td>\n",
              "      <td>mostly-true</td>\n",
              "    </tr>\n",
              "    <tr>\n",
              "      <th>3</th>\n",
              "      <td>Health care reform legislation is likely to ma...</td>\n",
              "      <td>FALSE</td>\n",
              "    </tr>\n",
              "    <tr>\n",
              "      <th>4</th>\n",
              "      <td>The economic turnaround started at the end of ...</td>\n",
              "      <td>half-true</td>\n",
              "    </tr>\n",
              "  </tbody>\n",
              "</table>\n",
              "</div>"
            ],
            "text/plain": [
              "                                           Statement        Label\n",
              "0  Says the Annies List political group supports ...        FALSE\n",
              "1  When did the decline of coal start? It started...    half-true\n",
              "2  Hillary Clinton agrees with John McCain \"by vo...  mostly-true\n",
              "3  Health care reform legislation is likely to ma...        FALSE\n",
              "4  The economic turnaround started at the end of ...    half-true"
            ]
          },
          "metadata": {
            "tags": []
          },
          "execution_count": 8
        }
      ]
    },
    {
      "cell_type": "code",
      "metadata": {
        "execution": {
          "iopub.execute_input": "2020-10-06T21:19:42.415166Z",
          "iopub.status.busy": "2020-10-06T21:19:42.414365Z",
          "iopub.status.idle": "2020-10-06T21:19:42.418112Z",
          "shell.execute_reply": "2020-10-06T21:19:42.417659Z"
        },
        "papermill": {
          "duration": 0.0451,
          "end_time": "2020-10-06T21:19:42.418205",
          "exception": false,
          "start_time": "2020-10-06T21:19:42.373105",
          "status": "completed"
        },
        "tags": [],
        "colab": {
          "base_uri": "https://localhost:8080/"
        },
        "id": "290GzJ21MQa-",
        "outputId": "8d9709ef-9169-4ba6-e960-711048c899f2"
      },
      "source": [
        "#Is there any null value?\n",
        "train[\"Statement\"].isnull().sum()"
      ],
      "execution_count": null,
      "outputs": [
        {
          "output_type": "execute_result",
          "data": {
            "text/plain": [
              "0"
            ]
          },
          "metadata": {
            "tags": []
          },
          "execution_count": 9
        }
      ]
    },
    {
      "cell_type": "code",
      "metadata": {
        "execution": {
          "iopub.execute_input": "2020-10-06T21:19:42.499946Z",
          "iopub.status.busy": "2020-10-06T21:19:42.498153Z",
          "iopub.status.idle": "2020-10-06T21:19:42.500760Z",
          "shell.execute_reply": "2020-10-06T21:19:42.501276Z"
        },
        "papermill": {
          "duration": 0.047154,
          "end_time": "2020-10-06T21:19:42.501409",
          "exception": false,
          "start_time": "2020-10-06T21:19:42.454255",
          "status": "completed"
        },
        "tags": [],
        "id": "vfrAbuiIMQa-"
      },
      "source": [
        "#Let's fill the only null value.\n",
        "train[\"Statement\"].fillna(\"No content\", inplace = True)"
      ],
      "execution_count": null,
      "outputs": []
    },
    {
      "cell_type": "code",
      "metadata": {
        "colab": {
          "base_uri": "https://localhost:8080/"
        },
        "id": "y1U6xbvWOE4K",
        "outputId": "a4a8ac7c-cf57-458b-d71e-1ffbc477132d"
      },
      "source": [
        "train[\"Statement\"].isnull().sum()"
      ],
      "execution_count": null,
      "outputs": [
        {
          "output_type": "execute_result",
          "data": {
            "text/plain": [
              "0"
            ]
          },
          "metadata": {
            "tags": []
          },
          "execution_count": 11
        }
      ]
    },
    {
      "cell_type": "markdown",
      "metadata": {
        "papermill": {
          "duration": 0.035753,
          "end_time": "2020-10-06T21:19:42.572975",
          "exception": false,
          "start_time": "2020-10-06T21:19:42.537222",
          "status": "completed"
        },
        "tags": [],
        "id": "hm7jDiNfMQa_"
      },
      "source": [
        "### The next steps about data cleaning will be:\n",
        "\n",
        "* Remove URLs from the tweets\n",
        "* Tokenize text\n",
        "* Remove emails\n",
        "* Remove new lines characters\n",
        "* Remove distracting single quotes\n",
        "* Remove all punctuation signs\n",
        "* Lowercase all text\n",
        "* Detokenize text\n",
        "* Convert list of texts to Numpy array"
      ]
    },
    {
      "cell_type": "code",
      "metadata": {
        "execution": {
          "iopub.execute_input": "2020-10-06T21:19:42.651469Z",
          "iopub.status.busy": "2020-10-06T21:19:42.650518Z",
          "iopub.status.idle": "2020-10-06T21:19:42.653091Z",
          "shell.execute_reply": "2020-10-06T21:19:42.653513Z"
        },
        "papermill": {
          "duration": 0.044735,
          "end_time": "2020-10-06T21:19:42.653654",
          "exception": false,
          "start_time": "2020-10-06T21:19:42.608919",
          "status": "completed"
        },
        "tags": [],
        "id": "AXSdHXk1MQa_"
      },
      "source": [
        "def depure_data(data):\n",
        "    \n",
        "    #Removing URLs with a regular expression\n",
        "    url_pattern = re.compile(r'https?://\\S+|www\\.\\S+')\n",
        "    data = url_pattern.sub(r'', data)\n",
        "\n",
        "    # Remove Emails\n",
        "    data = re.sub('\\S*@\\S*\\s?', '', data)\n",
        "\n",
        "    # Remove new line characters\n",
        "    data = re.sub('\\s+', ' ', data)\n",
        "\n",
        "    # Remove distracting single quotes\n",
        "    data = re.sub(\"\\'\", \"\", data)\n",
        "        \n",
        "    return data"
      ],
      "execution_count": null,
      "outputs": []
    },
    {
      "cell_type": "code",
      "metadata": {
        "execution": {
          "iopub.execute_input": "2020-10-06T21:19:42.742866Z",
          "iopub.status.busy": "2020-10-06T21:19:42.737799Z",
          "iopub.status.idle": "2020-10-06T21:19:43.099846Z",
          "shell.execute_reply": "2020-10-06T21:19:43.100317Z"
        },
        "papermill": {
          "duration": 0.411166,
          "end_time": "2020-10-06T21:19:43.100446",
          "exception": false,
          "start_time": "2020-10-06T21:19:42.689280",
          "status": "completed"
        },
        "tags": [],
        "colab": {
          "base_uri": "https://localhost:8080/"
        },
        "id": "Shy0nuqUMQbA",
        "outputId": "6be79084-5a9a-4843-ece1-6764f658e5e9"
      },
      "source": [
        "temp = []\n",
        "#Splitting pd.Series to list\n",
        "data_to_list = train[\"Statement\"].values.tolist()\n",
        "for i in range(len(data_to_list)):\n",
        "    temp.append(depure_data(data_to_list[i]))\n",
        "list(temp[:5])"
      ],
      "execution_count": null,
      "outputs": [
        {
          "output_type": "execute_result",
          "data": {
            "text/plain": [
              "['Says the Annies List political group supports third-trimester abortions on demand.',\n",
              " 'When did the decline of coal start? It started when natural gas took off that started to begin in (President George W.) Bushs administration.',\n",
              " 'Hillary Clinton agrees with John McCain \"by voting to give George Bush the benefit of the doubt on Iran.\"',\n",
              " 'Health care reform legislation is likely to mandate free sex change surgeries.',\n",
              " 'The economic turnaround started at the end of my term.']"
            ]
          },
          "metadata": {
            "tags": []
          },
          "execution_count": 13
        }
      ]
    },
    {
      "cell_type": "code",
      "metadata": {
        "execution": {
          "iopub.execute_input": "2020-10-06T21:19:43.217126Z",
          "iopub.status.busy": "2020-10-06T21:19:43.201831Z",
          "iopub.status.idle": "2020-10-06T21:19:44.301157Z",
          "shell.execute_reply": "2020-10-06T21:19:44.300459Z"
        },
        "papermill": {
          "duration": 1.161143,
          "end_time": "2020-10-06T21:19:44.301321",
          "exception": false,
          "start_time": "2020-10-06T21:19:43.140178",
          "status": "completed"
        },
        "tags": [],
        "colab": {
          "base_uri": "https://localhost:8080/"
        },
        "id": "CdZTjNupMQbA",
        "outputId": "15585024-b9f9-475b-8856-3f7909ec1d59"
      },
      "source": [
        "def sent_to_words(sentences):\n",
        "    for sentence in sentences:\n",
        "        yield(gensim.utils.simple_preprocess(str(sentence), deacc=True))  # deacc=True removes punctuations\n",
        "        \n",
        "\n",
        "data_words = list(sent_to_words(temp))\n",
        "\n",
        "print(data_words[:10])"
      ],
      "execution_count": null,
      "outputs": [
        {
          "output_type": "stream",
          "text": [
            "[['says', 'the', 'annies', 'list', 'political', 'group', 'supports', 'third', 'trimester', 'abortions', 'on', 'demand'], ['when', 'did', 'the', 'decline', 'of', 'coal', 'start', 'it', 'started', 'when', 'natural', 'gas', 'took', 'off', 'that', 'started', 'to', 'begin', 'in', 'president', 'george', 'bushs', 'administration'], ['hillary', 'clinton', 'agrees', 'with', 'john', 'mccain', 'by', 'voting', 'to', 'give', 'george', 'bush', 'the', 'benefit', 'of', 'the', 'doubt', 'on', 'iran'], ['health', 'care', 'reform', 'legislation', 'is', 'likely', 'to', 'mandate', 'free', 'sex', 'change', 'surgeries'], ['the', 'economic', 'turnaround', 'started', 'at', 'the', 'end', 'of', 'my', 'term'], ['the', 'chicago', 'bears', 'have', 'had', 'more', 'starting', 'quarterbacks', 'in', 'the', 'last', 'years', 'than', 'the', 'total', 'number', 'of', 'tenured', 'uw', 'faculty', 'fired', 'during', 'the', 'last', 'two', 'decades'], ['jim', 'dunnam', 'has', 'not', 'lived', 'in', 'the', 'district', 'he', 'represents', 'for', 'years', 'now'], ['im', 'the', 'only', 'person', 'on', 'this', 'stage', 'who', 'has', 'worked', 'actively', 'just', 'last', 'year', 'passing', 'along', 'with', 'russ', 'feingold', 'some', 'of', 'the', 'toughest', 'ethics', 'reform', 'since', 'watergate'], ['however', 'it', 'took', 'million', 'in', 'oregon', 'lottery', 'funds', 'for', 'the', 'port', 'of', 'newport', 'to', 'eventually', 'land', 'the', 'new', 'noaa', 'marine', 'operations', 'center', 'pacific'], ['says', 'gop', 'primary', 'opponents', 'glenn', 'grothman', 'and', 'joe', 'leibham', 'cast', 'compromise', 'vote', 'that', 'cost', 'million', 'in', 'higher', 'electricity', 'costs']]\n"
          ],
          "name": "stdout"
        }
      ]
    },
    {
      "cell_type": "code",
      "metadata": {
        "execution": {
          "iopub.execute_input": "2020-10-06T21:19:44.381205Z",
          "iopub.status.busy": "2020-10-06T21:19:44.380312Z",
          "iopub.status.idle": "2020-10-06T21:19:44.384281Z",
          "shell.execute_reply": "2020-10-06T21:19:44.383753Z"
        },
        "papermill": {
          "duration": 0.045481,
          "end_time": "2020-10-06T21:19:44.384376",
          "exception": false,
          "start_time": "2020-10-06T21:19:44.338895",
          "status": "completed"
        },
        "tags": [],
        "colab": {
          "base_uri": "https://localhost:8080/"
        },
        "id": "mYhsQsWlMQbB",
        "outputId": "649a3283-3ad7-40a4-f3ca-67b6c743c69c"
      },
      "source": [
        "len(data_words)"
      ],
      "execution_count": null,
      "outputs": [
        {
          "output_type": "execute_result",
          "data": {
            "text/plain": [
              "10240"
            ]
          },
          "metadata": {
            "tags": []
          },
          "execution_count": 15
        }
      ]
    },
    {
      "cell_type": "code",
      "metadata": {
        "execution": {
          "iopub.execute_input": "2020-10-06T21:19:44.465126Z",
          "iopub.status.busy": "2020-10-06T21:19:44.464351Z",
          "iopub.status.idle": "2020-10-06T21:19:44.467376Z",
          "shell.execute_reply": "2020-10-06T21:19:44.466918Z"
        },
        "papermill": {
          "duration": 0.045096,
          "end_time": "2020-10-06T21:19:44.467470",
          "exception": false,
          "start_time": "2020-10-06T21:19:44.422374",
          "status": "completed"
        },
        "tags": [],
        "id": "7HW9kQ5CMQbC"
      },
      "source": [
        "def detokenize(text):\n",
        "    return TreebankWordDetokenizer().detokenize(text)"
      ],
      "execution_count": null,
      "outputs": []
    },
    {
      "cell_type": "code",
      "metadata": {
        "execution": {
          "iopub.execute_input": "2020-10-06T21:19:44.561022Z",
          "iopub.status.busy": "2020-10-06T21:19:44.550825Z",
          "iopub.status.idle": "2020-10-06T21:19:47.831584Z",
          "shell.execute_reply": "2020-10-06T21:19:47.832620Z"
        },
        "papermill": {
          "duration": 3.326682,
          "end_time": "2020-10-06T21:19:47.832800",
          "exception": false,
          "start_time": "2020-10-06T21:19:44.506118",
          "status": "completed"
        },
        "tags": [],
        "colab": {
          "base_uri": "https://localhost:8080/"
        },
        "id": "XeU93Y58MQbC",
        "outputId": "105b2141-cce7-49d3-9b5e-347d1feb53c7"
      },
      "source": [
        "data = []\n",
        "for i in range(len(data_words)):\n",
        "    data.append(detokenize(data_words[i]))\n",
        "print(data[:5])"
      ],
      "execution_count": null,
      "outputs": [
        {
          "output_type": "stream",
          "text": [
            "['says the annies list political group supports third trimester abortions on demand', 'when did the decline of coal start it started when natural gas took off that started to begin in president george bushs administration', 'hillary clinton agrees with john mccain by voting to give george bush the benefit of the doubt on iran', 'health care reform legislation is likely to mandate free sex change surgeries', 'the economic turnaround started at the end of my term']\n"
          ],
          "name": "stdout"
        }
      ]
    },
    {
      "cell_type": "code",
      "metadata": {
        "execution": {
          "iopub.execute_input": "2020-10-06T21:19:47.936780Z",
          "iopub.status.busy": "2020-10-06T21:19:47.934885Z",
          "iopub.status.idle": "2020-10-06T21:19:47.937552Z",
          "shell.execute_reply": "2020-10-06T21:19:47.938090Z"
        },
        "papermill": {
          "duration": 0.06542,
          "end_time": "2020-10-06T21:19:47.938217",
          "exception": false,
          "start_time": "2020-10-06T21:19:47.872797",
          "status": "completed"
        },
        "tags": [],
        "id": "GwXOpk3dMQbD"
      },
      "source": [
        "data = np.array(data)"
      ],
      "execution_count": null,
      "outputs": []
    },
    {
      "cell_type": "code",
      "metadata": {
        "colab": {
          "base_uri": "https://localhost:8080/"
        },
        "id": "VE9V2QGVUOPK",
        "outputId": "ba7d8322-855f-4247-abd9-cc9ff6183f73"
      },
      "source": [
        "len(data)"
      ],
      "execution_count": null,
      "outputs": [
        {
          "output_type": "execute_result",
          "data": {
            "text/plain": [
              "10240"
            ]
          },
          "metadata": {
            "tags": []
          },
          "execution_count": 19
        }
      ]
    },
    {
      "cell_type": "markdown",
      "metadata": {
        "papermill": {
          "duration": 0.037183,
          "end_time": "2020-10-06T21:19:48.013459",
          "exception": false,
          "start_time": "2020-10-06T21:19:47.976276",
          "status": "completed"
        },
        "tags": [],
        "id": "eRJEoaRYMQbD"
      },
      "source": [
        "# Label encoding\n",
        "\n",
        "As the dataset has labels 0, 1 ,2 ,3 ,4 and 5. We need to convert them to one hot vector.\n",
        "\n",
        "0-   FALSE\n",
        "\n",
        "1-   TRUE\n",
        "\n",
        "2-   barely-true\n",
        "\n",
        "3-   half-true\n",
        "\n",
        "4-   mostly-true\n",
        "\n",
        "5-   pants-fire"
      ]
    },
    {
      "cell_type": "code",
      "metadata": {
        "id": "FlkjK1L5ObV4"
      },
      "source": [
        "labels = np.array(train['Label'])\n"
      ],
      "execution_count": null,
      "outputs": []
    },
    {
      "cell_type": "code",
      "metadata": {
        "colab": {
          "base_uri": "https://localhost:8080/"
        },
        "id": "Mmi_3hoxOciw",
        "outputId": "65801b0e-a694-4efb-eb2e-c6214ad54ad9"
      },
      "source": [
        "print (labels)"
      ],
      "execution_count": null,
      "outputs": [
        {
          "output_type": "stream",
          "text": [
            "['FALSE' 'half-true' 'mostly-true' ... 'half-true' 'FALSE' 'pants-fire']\n"
          ],
          "name": "stdout"
        }
      ]
    },
    {
      "cell_type": "code",
      "metadata": {
        "id": "udZi5_nezVw-"
      },
      "source": [
        "l=[]\n",
        "for i in labels:\n",
        "  if i==\"FALSE\":\n",
        "    l.append(0)\n",
        "  elif i==\"TRUE\":\n",
        "    l.append(1)\n",
        "  elif i==\"barely-true\":\n",
        "    l.append(2)\n",
        "  elif i==\"half-true\":\n",
        "    l.append(3)\n",
        "  elif i==\"mostly-true\":\n",
        "    l.append(4)\n",
        "  elif i==\"pants-fire\":\n",
        "    l.append(5)\n",
        "\n",
        "y_final = np.array(l)"
      ],
      "execution_count": null,
      "outputs": []
    },
    {
      "cell_type": "code",
      "metadata": {
        "colab": {
          "base_uri": "https://localhost:8080/"
        },
        "id": "3Cf8I-Wuzi6p",
        "outputId": "06c85115-17f7-4b39-e9c3-93824a1fc684"
      },
      "source": [
        "print(y_final)"
      ],
      "execution_count": null,
      "outputs": [
        {
          "output_type": "stream",
          "text": [
            "[0 3 4 ... 3 0 5]\n"
          ],
          "name": "stdout"
        }
      ]
    },
    {
      "cell_type": "code",
      "metadata": {
        "id": "_Z_TfeN_PA9B"
      },
      "source": [
        "labels = tf.keras.utils.to_categorical(y_final, 6, dtype=\"float32\")\n",
        "# labels=y_final"
      ],
      "execution_count": null,
      "outputs": []
    },
    {
      "cell_type": "code",
      "metadata": {
        "colab": {
          "base_uri": "https://localhost:8080/"
        },
        "id": "qtYDpp4OUUAA",
        "outputId": "4a23451c-16f9-4e8b-e317-62daae564862"
      },
      "source": [
        "print (labels)"
      ],
      "execution_count": null,
      "outputs": [
        {
          "output_type": "stream",
          "text": [
            "[[1. 0. 0. 0. 0. 0.]\n",
            " [0. 0. 0. 1. 0. 0.]\n",
            " [0. 0. 0. 0. 1. 0.]\n",
            " ...\n",
            " [0. 0. 0. 1. 0. 0.]\n",
            " [1. 0. 0. 0. 0. 0.]\n",
            " [0. 0. 0. 0. 0. 1.]]\n"
          ],
          "name": "stdout"
        }
      ]
    },
    {
      "cell_type": "code",
      "metadata": {
        "execution": {
          "iopub.execute_input": "2020-10-06T21:19:48.206863Z",
          "iopub.status.busy": "2020-10-06T21:19:48.206068Z",
          "iopub.status.idle": "2020-10-06T21:19:48.209920Z",
          "shell.execute_reply": "2020-10-06T21:19:48.209425Z"
        },
        "papermill": {
          "duration": 0.046647,
          "end_time": "2020-10-06T21:19:48.210021",
          "exception": false,
          "start_time": "2020-10-06T21:19:48.163374",
          "status": "completed"
        },
        "tags": [],
        "colab": {
          "base_uri": "https://localhost:8080/"
        },
        "id": "S7JISYL2MQbE",
        "outputId": "03353b5d-efe2-4c52-c5de-9e45d49c5b5d"
      },
      "source": [
        "len(labels)"
      ],
      "execution_count": null,
      "outputs": [
        {
          "output_type": "execute_result",
          "data": {
            "text/plain": [
              "10240"
            ]
          },
          "metadata": {
            "tags": []
          },
          "execution_count": 29
        }
      ]
    },
    {
      "cell_type": "markdown",
      "metadata": {
        "papermill": {
          "duration": 0.038298,
          "end_time": "2020-10-06T21:19:48.287312",
          "exception": false,
          "start_time": "2020-10-06T21:19:48.249014",
          "status": "completed"
        },
        "tags": [],
        "id": "dPNxJw_ZMQbE"
      },
      "source": [
        "# Data sequencing and splitting\n"
      ]
    },
    {
      "cell_type": "code",
      "metadata": {
        "execution": {
          "iopub.execute_input": "2020-10-06T21:19:48.373707Z",
          "iopub.status.busy": "2020-10-06T21:19:48.372469Z",
          "iopub.status.idle": "2020-10-06T21:19:49.386819Z",
          "shell.execute_reply": "2020-10-06T21:19:49.387562Z"
        },
        "papermill": {
          "duration": 1.062302,
          "end_time": "2020-10-06T21:19:49.387739",
          "exception": false,
          "start_time": "2020-10-06T21:19:48.325437",
          "status": "completed"
        },
        "tags": [],
        "colab": {
          "base_uri": "https://localhost:8080/"
        },
        "id": "RsOKF4AKMQbF",
        "outputId": "ed1006dc-e454-485d-f02e-b328b32adb75"
      },
      "source": [
        "from keras.models import Sequential\n",
        "from keras import layers\n",
        "from keras.optimizers import RMSprop,Adam\n",
        "from keras.preprocessing.text import Tokenizer\n",
        "from keras.preprocessing.sequence import pad_sequences\n",
        "from keras import regularizers\n",
        "from keras import backend as K\n",
        "from keras.callbacks import ModelCheckpoint\n",
        "max_words = 5000\n",
        "max_len = 200\n",
        "\n",
        "tokenizer = Tokenizer(num_words=max_words)\n",
        "tokenizer.fit_on_texts(data)\n",
        "sequences = tokenizer.texts_to_sequences(data)\n",
        "tweets = pad_sequences(sequences, maxlen=max_len)\n",
        "print(tweets)"
      ],
      "execution_count": null,
      "outputs": [
        {
          "output_type": "stream",
          "text": [
            "[[   0    0    0 ...  545   10 1498]\n",
            " [   0    0    0 ...  291 1022  167]\n",
            " [   0    0    0 ... 3350   10  386]\n",
            " ...\n",
            " [   0    0    0 ...   67  175  124]\n",
            " [   0    0    0 ... 2269    4 1573]\n",
            " [   0    0    0 ...    4 1760 1649]]\n"
          ],
          "name": "stdout"
        }
      ]
    },
    {
      "cell_type": "code",
      "metadata": {
        "colab": {
          "base_uri": "https://localhost:8080/"
        },
        "id": "om55YrQJUksr",
        "outputId": "1522344d-5d23-4b1a-9e8c-bf5f9c90dbf1"
      },
      "source": [
        "len(tweets)"
      ],
      "execution_count": null,
      "outputs": [
        {
          "output_type": "execute_result",
          "data": {
            "text/plain": [
              "10240"
            ]
          },
          "metadata": {
            "tags": []
          },
          "execution_count": 31
        }
      ]
    },
    {
      "cell_type": "code",
      "metadata": {
        "colab": {
          "base_uri": "https://localhost:8080/"
        },
        "id": "e5GTFAyFaGqT",
        "outputId": "e4730f71-036d-486d-c598-5650a96fd9c9"
      },
      "source": [
        "len(tweets[19])"
      ],
      "execution_count": null,
      "outputs": [
        {
          "output_type": "execute_result",
          "data": {
            "text/plain": [
              "200"
            ]
          },
          "metadata": {
            "tags": []
          },
          "execution_count": 32
        }
      ]
    },
    {
      "cell_type": "code",
      "metadata": {
        "execution": {
          "iopub.execute_input": "2020-10-06T21:19:49.478734Z",
          "iopub.status.busy": "2020-10-06T21:19:49.477823Z",
          "iopub.status.idle": "2020-10-06T21:19:49.482217Z",
          "shell.execute_reply": "2020-10-06T21:19:49.483329Z"
        },
        "papermill": {
          "duration": 0.054099,
          "end_time": "2020-10-06T21:19:49.483550",
          "exception": false,
          "start_time": "2020-10-06T21:19:49.429451",
          "status": "completed"
        },
        "tags": [],
        "colab": {
          "base_uri": "https://localhost:8080/"
        },
        "id": "EyHg4PJaMQbH",
        "outputId": "f461e0e9-0597-489d-ee59-d8cfcd8dc86d"
      },
      "source": [
        "print(labels)"
      ],
      "execution_count": null,
      "outputs": [
        {
          "output_type": "stream",
          "text": [
            "[[1. 0. 0. 0. 0. 0.]\n",
            " [0. 0. 0. 1. 0. 0.]\n",
            " [0. 0. 0. 0. 1. 0.]\n",
            " ...\n",
            " [0. 0. 0. 1. 0. 0.]\n",
            " [1. 0. 0. 0. 0. 0.]\n",
            " [0. 0. 0. 0. 0. 1.]]\n"
          ],
          "name": "stdout"
        }
      ]
    },
    {
      "cell_type": "code",
      "metadata": {
        "execution": {
          "iopub.execute_input": "2020-10-06T21:19:49.585814Z",
          "iopub.status.busy": "2020-10-06T21:19:49.584576Z",
          "iopub.status.idle": "2020-10-06T21:19:49.600360Z",
          "shell.execute_reply": "2020-10-06T21:19:49.601002Z"
        },
        "papermill": {
          "duration": 0.069178,
          "end_time": "2020-10-06T21:19:49.601136",
          "exception": false,
          "start_time": "2020-10-06T21:19:49.531958",
          "status": "completed"
        },
        "tags": [],
        "colab": {
          "base_uri": "https://localhost:8080/"
        },
        "id": "GYEfX-SzMQbI",
        "outputId": "89be3606-3c58-45e4-b7d2-9b776e5f2a11"
      },
      "source": [
        "#Splitting the data\n",
        "X_train, X_test, y_train, y_test = train_test_split(tweets,labels, random_state=0)\n",
        "print (len(X_train),len(X_test),len(y_train),len(y_test))"
      ],
      "execution_count": null,
      "outputs": [
        {
          "output_type": "stream",
          "text": [
            "7680 2560 7680 2560\n"
          ],
          "name": "stdout"
        }
      ]
    },
    {
      "cell_type": "code",
      "metadata": {
        "id": "FstnH4X7RZS6"
      },
      "source": [
        ""
      ],
      "execution_count": null,
      "outputs": []
    },
    {
      "cell_type": "markdown",
      "metadata": {
        "id": "deTft_qOf4wG"
      },
      "source": [
        "#Multi LSTM layer model"
      ]
    },
    {
      "cell_type": "code",
      "metadata": {
        "id": "ySlZZm2Gf5UL"
      },
      "source": [
        "model1 = Sequential()\n",
        "model1.add(layers.Embedding(max_words, 100))\n",
        "model1.add(layers.LSTM(73,return_sequences=True,dropout=0.5))\n",
        "model1.add(layers.LSTM(51,return_sequences=True))\n",
        "model1.add(layers.LSTM(37,return_sequences=True))\n",
        "model1.add(layers.LSTM(19))\n",
        "model1.add(layers.Dense(6,activation='softmax'))\n",
        "\n",
        "\n",
        "model1.compile(optimizer='rmsprop',loss='categorical_crossentropy', metrics=['accuracy'])"
      ],
      "execution_count": null,
      "outputs": []
    },
    {
      "cell_type": "code",
      "metadata": {
        "colab": {
          "base_uri": "https://localhost:8080/"
        },
        "id": "vGO_trMlgRNE",
        "outputId": "0d74eb21-1d83-4773-b4aa-a4b98221f362"
      },
      "source": [
        "model1.summary()"
      ],
      "execution_count": null,
      "outputs": [
        {
          "output_type": "stream",
          "text": [
            "Model: \"sequential_10\"\n",
            "_________________________________________________________________\n",
            "Layer (type)                 Output Shape              Param #   \n",
            "=================================================================\n",
            "embedding_10 (Embedding)     (None, None, 100)         500000    \n",
            "_________________________________________________________________\n",
            "lstm_31 (LSTM)               (None, None, 73)          50808     \n",
            "_________________________________________________________________\n",
            "lstm_32 (LSTM)               (None, None, 51)          25500     \n",
            "_________________________________________________________________\n",
            "lstm_33 (LSTM)               (None, None, 37)          13172     \n",
            "_________________________________________________________________\n",
            "lstm_34 (LSTM)               (None, 19)                4332      \n",
            "_________________________________________________________________\n",
            "dense_8 (Dense)              (None, 6)                 120       \n",
            "=================================================================\n",
            "Total params: 593,932\n",
            "Trainable params: 593,932\n",
            "Non-trainable params: 0\n",
            "_________________________________________________________________\n"
          ],
          "name": "stdout"
        }
      ]
    },
    {
      "cell_type": "code",
      "metadata": {
        "colab": {
          "base_uri": "https://localhost:8080/"
        },
        "id": "ZbddXgCmhNY1",
        "outputId": "5e4573cb-7716-4ef7-8640-4aa169341b20"
      },
      "source": [
        "history = model1.fit(X_train, y_train, epochs=100,validation_data=(X_test, y_test))"
      ],
      "execution_count": null,
      "outputs": [
        {
          "output_type": "stream",
          "text": [
            "Epoch 1/100\n",
            "240/240 [==============================] - 14s 40ms/step - loss: 1.7623 - accuracy: 0.2165 - val_loss: 1.7419 - val_accuracy: 0.2148\n",
            "Epoch 2/100\n",
            "240/240 [==============================] - 8s 35ms/step - loss: 1.7222 - accuracy: 0.2405 - val_loss: 1.7401 - val_accuracy: 0.2461\n",
            "Epoch 3/100\n",
            "240/240 [==============================] - 8s 34ms/step - loss: 1.6745 - accuracy: 0.2742 - val_loss: 1.7368 - val_accuracy: 0.2488\n",
            "Epoch 4/100\n",
            "240/240 [==============================] - 8s 35ms/step - loss: 1.6175 - accuracy: 0.3117 - val_loss: 1.7526 - val_accuracy: 0.2438\n",
            "Epoch 5/100\n",
            "240/240 [==============================] - 8s 34ms/step - loss: 1.5657 - accuracy: 0.3497 - val_loss: 1.7985 - val_accuracy: 0.2484\n",
            "Epoch 6/100\n",
            "240/240 [==============================] - 8s 34ms/step - loss: 1.5094 - accuracy: 0.3838 - val_loss: 1.8922 - val_accuracy: 0.2172\n",
            "Epoch 7/100\n",
            "240/240 [==============================] - 8s 35ms/step - loss: 1.4623 - accuracy: 0.4152 - val_loss: 1.8618 - val_accuracy: 0.2152\n",
            "Epoch 8/100\n",
            "240/240 [==============================] - 8s 34ms/step - loss: 1.4046 - accuracy: 0.4479 - val_loss: 1.8957 - val_accuracy: 0.2246\n",
            "Epoch 9/100\n",
            "240/240 [==============================] - 8s 34ms/step - loss: 1.3568 - accuracy: 0.4585 - val_loss: 1.9340 - val_accuracy: 0.2266\n",
            "Epoch 10/100\n",
            "240/240 [==============================] - 8s 35ms/step - loss: 1.2933 - accuracy: 0.4966 - val_loss: 1.9748 - val_accuracy: 0.2316\n",
            "Epoch 11/100\n",
            "240/240 [==============================] - 8s 34ms/step - loss: 1.2064 - accuracy: 0.5526 - val_loss: 2.0565 - val_accuracy: 0.2137\n",
            "Epoch 12/100\n",
            "240/240 [==============================] - 8s 35ms/step - loss: 1.1811 - accuracy: 0.5568 - val_loss: 2.1002 - val_accuracy: 0.2270\n",
            "Epoch 13/100\n",
            "240/240 [==============================] - 8s 34ms/step - loss: 1.1216 - accuracy: 0.5856 - val_loss: 2.1033 - val_accuracy: 0.2230\n",
            "Epoch 14/100\n",
            "240/240 [==============================] - 8s 34ms/step - loss: 1.0699 - accuracy: 0.5993 - val_loss: 2.2222 - val_accuracy: 0.2148\n",
            "Epoch 15/100\n",
            "240/240 [==============================] - 8s 35ms/step - loss: 1.0321 - accuracy: 0.6231 - val_loss: 2.1629 - val_accuracy: 0.2227\n",
            "Epoch 16/100\n",
            "240/240 [==============================] - 8s 34ms/step - loss: 0.9775 - accuracy: 0.6393 - val_loss: 2.3164 - val_accuracy: 0.2230\n",
            "Epoch 17/100\n",
            "240/240 [==============================] - 8s 34ms/step - loss: 0.9370 - accuracy: 0.6552 - val_loss: 2.3226 - val_accuracy: 0.2223\n",
            "Epoch 18/100\n",
            "240/240 [==============================] - 8s 35ms/step - loss: 0.9004 - accuracy: 0.6773 - val_loss: 2.3598 - val_accuracy: 0.2172\n",
            "Epoch 19/100\n",
            "240/240 [==============================] - 8s 34ms/step - loss: 0.8552 - accuracy: 0.6942 - val_loss: 2.3529 - val_accuracy: 0.2184\n",
            "Epoch 20/100\n",
            "240/240 [==============================] - 8s 35ms/step - loss: 0.8256 - accuracy: 0.7095 - val_loss: 2.5034 - val_accuracy: 0.2156\n",
            "Epoch 21/100\n",
            "240/240 [==============================] - 8s 34ms/step - loss: 0.7985 - accuracy: 0.7130 - val_loss: 2.5117 - val_accuracy: 0.2148\n",
            "Epoch 22/100\n",
            "240/240 [==============================] - 8s 34ms/step - loss: 0.7330 - accuracy: 0.7438 - val_loss: 2.6492 - val_accuracy: 0.2152\n",
            "Epoch 23/100\n",
            "240/240 [==============================] - 8s 34ms/step - loss: 0.7234 - accuracy: 0.7474 - val_loss: 2.5971 - val_accuracy: 0.2215\n",
            "Epoch 24/100\n",
            "240/240 [==============================] - 8s 34ms/step - loss: 0.6893 - accuracy: 0.7591 - val_loss: 2.5861 - val_accuracy: 0.2125\n",
            "Epoch 25/100\n",
            "240/240 [==============================] - 8s 35ms/step - loss: 0.6833 - accuracy: 0.7654 - val_loss: 2.7591 - val_accuracy: 0.2258\n",
            "Epoch 26/100\n",
            "240/240 [==============================] - 8s 35ms/step - loss: 0.6482 - accuracy: 0.7750 - val_loss: 2.7609 - val_accuracy: 0.2082\n",
            "Epoch 27/100\n",
            "240/240 [==============================] - 8s 34ms/step - loss: 0.6266 - accuracy: 0.7787 - val_loss: 2.7430 - val_accuracy: 0.2117\n",
            "Epoch 28/100\n",
            "240/240 [==============================] - 8s 35ms/step - loss: 0.5873 - accuracy: 0.7927 - val_loss: 2.8757 - val_accuracy: 0.2133\n",
            "Epoch 29/100\n",
            "240/240 [==============================] - 8s 34ms/step - loss: 0.5656 - accuracy: 0.8038 - val_loss: 2.8302 - val_accuracy: 0.2145\n",
            "Epoch 30/100\n",
            "240/240 [==============================] - 8s 34ms/step - loss: 0.5648 - accuracy: 0.7995 - val_loss: 2.8490 - val_accuracy: 0.2145\n",
            "Epoch 31/100\n",
            "240/240 [==============================] - 8s 35ms/step - loss: 0.5306 - accuracy: 0.8166 - val_loss: 2.8128 - val_accuracy: 0.2285\n",
            "Epoch 32/100\n",
            "240/240 [==============================] - 8s 34ms/step - loss: 0.5343 - accuracy: 0.8192 - val_loss: 2.9888 - val_accuracy: 0.2133\n",
            "Epoch 33/100\n",
            "240/240 [==============================] - 8s 35ms/step - loss: 0.5127 - accuracy: 0.8262 - val_loss: 3.0320 - val_accuracy: 0.2262\n",
            "Epoch 34/100\n",
            "240/240 [==============================] - 8s 34ms/step - loss: 0.4914 - accuracy: 0.8317 - val_loss: 3.1028 - val_accuracy: 0.2207\n",
            "Epoch 35/100\n",
            "240/240 [==============================] - 8s 34ms/step - loss: 0.4843 - accuracy: 0.8291 - val_loss: 3.0582 - val_accuracy: 0.2121\n",
            "Epoch 36/100\n",
            "240/240 [==============================] - 8s 35ms/step - loss: 0.4618 - accuracy: 0.8410 - val_loss: 3.1633 - val_accuracy: 0.2105\n",
            "Epoch 37/100\n",
            "240/240 [==============================] - 8s 35ms/step - loss: 0.4393 - accuracy: 0.8555 - val_loss: 3.1746 - val_accuracy: 0.2168\n",
            "Epoch 38/100\n",
            "240/240 [==============================] - 8s 34ms/step - loss: 0.4300 - accuracy: 0.8553 - val_loss: 3.2059 - val_accuracy: 0.2203\n",
            "Epoch 39/100\n",
            "240/240 [==============================] - 8s 35ms/step - loss: 0.4188 - accuracy: 0.8568 - val_loss: 3.2400 - val_accuracy: 0.2137\n",
            "Epoch 40/100\n",
            "240/240 [==============================] - 8s 34ms/step - loss: 0.3937 - accuracy: 0.8657 - val_loss: 3.2029 - val_accuracy: 0.2129\n",
            "Epoch 41/100\n",
            "240/240 [==============================] - 8s 35ms/step - loss: 0.3936 - accuracy: 0.8637 - val_loss: 3.3136 - val_accuracy: 0.2141\n",
            "Epoch 42/100\n",
            "240/240 [==============================] - 8s 35ms/step - loss: 0.3836 - accuracy: 0.8684 - val_loss: 3.3552 - val_accuracy: 0.2129\n",
            "Epoch 43/100\n",
            "240/240 [==============================] - 8s 35ms/step - loss: 0.3681 - accuracy: 0.8785 - val_loss: 3.4022 - val_accuracy: 0.2137\n",
            "Epoch 44/100\n",
            "240/240 [==============================] - 8s 35ms/step - loss: 0.3490 - accuracy: 0.8835 - val_loss: 3.4216 - val_accuracy: 0.2172\n",
            "Epoch 45/100\n",
            "240/240 [==============================] - 8s 35ms/step - loss: 0.3397 - accuracy: 0.8865 - val_loss: 3.5254 - val_accuracy: 0.2160\n",
            "Epoch 46/100\n",
            "240/240 [==============================] - 8s 34ms/step - loss: 0.3422 - accuracy: 0.8875 - val_loss: 3.4546 - val_accuracy: 0.2137\n",
            "Epoch 47/100\n",
            "240/240 [==============================] - 8s 35ms/step - loss: 0.3425 - accuracy: 0.8868 - val_loss: 3.5135 - val_accuracy: 0.2133\n",
            "Epoch 48/100\n",
            "240/240 [==============================] - 8s 34ms/step - loss: 0.3147 - accuracy: 0.8963 - val_loss: 3.5035 - val_accuracy: 0.2156\n",
            "Epoch 49/100\n",
            "240/240 [==============================] - 8s 35ms/step - loss: 0.3052 - accuracy: 0.8980 - val_loss: 3.4810 - val_accuracy: 0.2164\n",
            "Epoch 50/100\n",
            "240/240 [==============================] - 8s 34ms/step - loss: 0.3202 - accuracy: 0.8919 - val_loss: 3.5408 - val_accuracy: 0.2184\n",
            "Epoch 51/100\n",
            "240/240 [==============================] - 8s 34ms/step - loss: 0.2920 - accuracy: 0.8999 - val_loss: 3.5604 - val_accuracy: 0.2141\n",
            "Epoch 52/100\n",
            "240/240 [==============================] - 8s 35ms/step - loss: 0.2834 - accuracy: 0.9022 - val_loss: 3.6340 - val_accuracy: 0.2168\n",
            "Epoch 53/100\n",
            "240/240 [==============================] - 8s 35ms/step - loss: 0.2694 - accuracy: 0.9121 - val_loss: 3.7142 - val_accuracy: 0.2164\n",
            "Epoch 54/100\n",
            "240/240 [==============================] - 8s 35ms/step - loss: 0.2564 - accuracy: 0.9127 - val_loss: 3.7497 - val_accuracy: 0.2215\n",
            "Epoch 55/100\n",
            "240/240 [==============================] - 8s 35ms/step - loss: 0.2571 - accuracy: 0.9141 - val_loss: 3.8559 - val_accuracy: 0.2176\n",
            "Epoch 56/100\n",
            "240/240 [==============================] - 8s 35ms/step - loss: 0.2443 - accuracy: 0.9183 - val_loss: 3.7829 - val_accuracy: 0.2148\n",
            "Epoch 57/100\n",
            "240/240 [==============================] - 9s 36ms/step - loss: 0.2295 - accuracy: 0.9242 - val_loss: 3.8919 - val_accuracy: 0.2141\n",
            "Epoch 58/100\n",
            "240/240 [==============================] - 8s 35ms/step - loss: 0.2505 - accuracy: 0.9162 - val_loss: 3.9202 - val_accuracy: 0.2098\n",
            "Epoch 59/100\n",
            "240/240 [==============================] - 8s 35ms/step - loss: 0.2311 - accuracy: 0.9255 - val_loss: 3.8727 - val_accuracy: 0.2160\n",
            "Epoch 60/100\n",
            "240/240 [==============================] - 8s 35ms/step - loss: 0.2344 - accuracy: 0.9231 - val_loss: 3.9889 - val_accuracy: 0.2156\n",
            "Epoch 61/100\n",
            "240/240 [==============================] - 8s 35ms/step - loss: 0.2115 - accuracy: 0.9319 - val_loss: 3.9513 - val_accuracy: 0.2176\n",
            "Epoch 62/100\n",
            "240/240 [==============================] - 8s 35ms/step - loss: 0.2147 - accuracy: 0.9285 - val_loss: 3.9849 - val_accuracy: 0.2094\n",
            "Epoch 63/100\n",
            "240/240 [==============================] - 8s 35ms/step - loss: 0.2156 - accuracy: 0.9283 - val_loss: 4.0108 - val_accuracy: 0.2180\n",
            "Epoch 64/100\n",
            "240/240 [==============================] - 8s 35ms/step - loss: 0.1999 - accuracy: 0.9313 - val_loss: 4.0721 - val_accuracy: 0.2125\n",
            "Epoch 65/100\n",
            "240/240 [==============================] - 8s 35ms/step - loss: 0.1964 - accuracy: 0.9334 - val_loss: 4.0631 - val_accuracy: 0.2094\n",
            "Epoch 66/100\n",
            "240/240 [==============================] - 8s 34ms/step - loss: 0.2015 - accuracy: 0.9321 - val_loss: 4.0722 - val_accuracy: 0.2109\n",
            "Epoch 67/100\n",
            "240/240 [==============================] - 8s 35ms/step - loss: 0.2059 - accuracy: 0.9299 - val_loss: 4.0055 - val_accuracy: 0.2090\n",
            "Epoch 68/100\n",
            "240/240 [==============================] - 8s 35ms/step - loss: 0.2032 - accuracy: 0.9342 - val_loss: 4.0930 - val_accuracy: 0.2094\n",
            "Epoch 69/100\n",
            "240/240 [==============================] - 8s 35ms/step - loss: 0.1837 - accuracy: 0.9381 - val_loss: 4.2185 - val_accuracy: 0.2152\n",
            "Epoch 70/100\n",
            "240/240 [==============================] - 8s 35ms/step - loss: 0.1663 - accuracy: 0.9407 - val_loss: 4.0910 - val_accuracy: 0.2168\n",
            "Epoch 71/100\n",
            "240/240 [==============================] - 8s 35ms/step - loss: 0.1743 - accuracy: 0.9419 - val_loss: 4.1765 - val_accuracy: 0.2160\n",
            "Epoch 72/100\n",
            "240/240 [==============================] - 8s 35ms/step - loss: 0.1788 - accuracy: 0.9396 - val_loss: 4.2007 - val_accuracy: 0.2133\n",
            "Epoch 73/100\n",
            "240/240 [==============================] - 8s 35ms/step - loss: 0.1679 - accuracy: 0.9438 - val_loss: 4.3212 - val_accuracy: 0.2145\n",
            "Epoch 74/100\n",
            "240/240 [==============================] - 8s 35ms/step - loss: 0.1605 - accuracy: 0.9434 - val_loss: 4.2260 - val_accuracy: 0.2164\n",
            "Epoch 75/100\n",
            "240/240 [==============================] - 8s 35ms/step - loss: 0.1736 - accuracy: 0.9400 - val_loss: 4.3519 - val_accuracy: 0.2066\n",
            "Epoch 76/100\n",
            "240/240 [==============================] - 8s 35ms/step - loss: 0.1315 - accuracy: 0.9543 - val_loss: 4.2452 - val_accuracy: 0.2176\n",
            "Epoch 77/100\n",
            "240/240 [==============================] - 8s 35ms/step - loss: 0.1552 - accuracy: 0.9509 - val_loss: 4.4349 - val_accuracy: 0.2152\n",
            "Epoch 78/100\n",
            "240/240 [==============================] - 9s 35ms/step - loss: 0.1479 - accuracy: 0.9519 - val_loss: 4.4353 - val_accuracy: 0.2152\n",
            "Epoch 79/100\n",
            "240/240 [==============================] - 8s 35ms/step - loss: 0.1583 - accuracy: 0.9467 - val_loss: 4.4144 - val_accuracy: 0.2199\n",
            "Epoch 80/100\n",
            "240/240 [==============================] - 8s 35ms/step - loss: 0.1294 - accuracy: 0.9558 - val_loss: 4.4534 - val_accuracy: 0.2168\n",
            "Epoch 81/100\n",
            "240/240 [==============================] - 8s 35ms/step - loss: 0.1413 - accuracy: 0.9522 - val_loss: 4.4903 - val_accuracy: 0.2172\n",
            "Epoch 82/100\n",
            "240/240 [==============================] - 8s 35ms/step - loss: 0.1419 - accuracy: 0.9524 - val_loss: 4.4008 - val_accuracy: 0.2133\n",
            "Epoch 83/100\n",
            "240/240 [==============================] - 8s 35ms/step - loss: 0.1334 - accuracy: 0.9573 - val_loss: 4.3877 - val_accuracy: 0.2172\n",
            "Epoch 84/100\n",
            "240/240 [==============================] - 8s 35ms/step - loss: 0.1291 - accuracy: 0.9564 - val_loss: 4.5233 - val_accuracy: 0.2113\n",
            "Epoch 85/100\n",
            "240/240 [==============================] - 8s 35ms/step - loss: 0.1135 - accuracy: 0.9629 - val_loss: 4.5229 - val_accuracy: 0.2156\n",
            "Epoch 86/100\n",
            "240/240 [==============================] - 9s 35ms/step - loss: 0.1271 - accuracy: 0.9588 - val_loss: 4.5457 - val_accuracy: 0.2129\n",
            "Epoch 87/100\n",
            "240/240 [==============================] - 8s 35ms/step - loss: 0.1121 - accuracy: 0.9629 - val_loss: 4.6037 - val_accuracy: 0.2145\n",
            "Epoch 88/100\n",
            "240/240 [==============================] - 9s 36ms/step - loss: 0.1341 - accuracy: 0.9591 - val_loss: 4.6064 - val_accuracy: 0.2156\n",
            "Epoch 89/100\n",
            "240/240 [==============================] - 8s 35ms/step - loss: 0.1154 - accuracy: 0.9614 - val_loss: 4.6147 - val_accuracy: 0.2160\n",
            "Epoch 90/100\n",
            "240/240 [==============================] - 8s 35ms/step - loss: 0.1089 - accuracy: 0.9655 - val_loss: 4.6500 - val_accuracy: 0.2109\n",
            "Epoch 91/100\n",
            "240/240 [==============================] - 9s 36ms/step - loss: 0.1092 - accuracy: 0.9634 - val_loss: 4.6704 - val_accuracy: 0.2125\n",
            "Epoch 92/100\n",
            "240/240 [==============================] - 8s 35ms/step - loss: 0.1099 - accuracy: 0.9672 - val_loss: 4.7685 - val_accuracy: 0.2160\n",
            "Epoch 93/100\n",
            "240/240 [==============================] - 8s 35ms/step - loss: 0.1184 - accuracy: 0.9602 - val_loss: 4.7222 - val_accuracy: 0.2172\n",
            "Epoch 94/100\n",
            "240/240 [==============================] - 9s 35ms/step - loss: 0.1139 - accuracy: 0.9633 - val_loss: 4.6767 - val_accuracy: 0.2027\n",
            "Epoch 95/100\n",
            "240/240 [==============================] - 8s 35ms/step - loss: 0.1067 - accuracy: 0.9650 - val_loss: 4.7100 - val_accuracy: 0.2125\n",
            "Epoch 96/100\n",
            "240/240 [==============================] - 9s 36ms/step - loss: 0.0980 - accuracy: 0.9702 - val_loss: 4.6578 - val_accuracy: 0.2156\n",
            "Epoch 97/100\n",
            "240/240 [==============================] - 8s 35ms/step - loss: 0.0848 - accuracy: 0.9727 - val_loss: 4.8216 - val_accuracy: 0.2168\n",
            "Epoch 98/100\n",
            "240/240 [==============================] - 8s 35ms/step - loss: 0.0986 - accuracy: 0.9648 - val_loss: 4.8430 - val_accuracy: 0.2129\n",
            "Epoch 99/100\n",
            "240/240 [==============================] - 9s 36ms/step - loss: 0.0882 - accuracy: 0.9668 - val_loss: 4.8422 - val_accuracy: 0.2090\n",
            "Epoch 100/100\n",
            "240/240 [==============================] - 8s 35ms/step - loss: 0.1040 - accuracy: 0.9683 - val_loss: 4.8488 - val_accuracy: 0.2160\n"
          ],
          "name": "stdout"
        }
      ]
    },
    {
      "cell_type": "code",
      "metadata": {
        "colab": {
          "base_uri": "https://localhost:8080/",
          "height": 573
        },
        "id": "kZpO0RqSh0yC",
        "outputId": "95bc02b7-085d-4f75-98eb-2dfb794c1b30"
      },
      "source": [
        "# plotting training and validation loss\n",
        "\n",
        "loss = history.history['loss']\n",
        "val_loss = history.history['val_loss']\n",
        "epochs = range(1, len(loss) + 1)\n",
        "plt.plot(epochs, loss, color='red', label='Training loss')\n",
        "plt.plot(epochs, val_loss, color='green', label='Validation loss')\n",
        "plt.title('Training and Validation loss')\n",
        "plt.xlabel('Epochs')\n",
        "plt.ylabel('Loss')\n",
        "plt.legend()\n",
        "plt.show()\n",
        "\n",
        "# plotting training and validation accuracy\n",
        "\n",
        "acc = history.history['accuracy']\n",
        "val_acc = history.history['val_accuracy']\n",
        "plt.plot(epochs, acc, color='red', label='Training acc')\n",
        "plt.plot(epochs, val_acc, color='green', label='Validation acc')\n",
        "plt.title('Training and Validation accuracy')\n",
        "plt.xlabel('Epochs')\n",
        "plt.ylabel('Accuracy')\n",
        "plt.legend()\n",
        "plt.show()"
      ],
      "execution_count": null,
      "outputs": [
        {
          "output_type": "display_data",
          "data": {
            "image/png": "[encoded data removed]",
            "text/plain": [
              "<Figure size 432x288 with 1 Axes>"
            ]
          },
          "metadata": {
            "tags": [],
            "needs_background": "light"
          }
        },
        {
          "output_type": "display_data",
          "data": {
            "image/png": "[encoded data removed]",
            "text/plain": [
              "<Figure size 432x288 with 1 Axes>"
            ]
          },
          "metadata": {
            "tags": [],
            "needs_background": "light"
          }
        }
      ]
    },
    {
      "cell_type": "code",
      "metadata": {
        "colab": {
          "base_uri": "https://localhost:8080/"
        },
        "id": "Zxh98FWBioX2",
        "outputId": "ea7b7263-f34e-4e3f-f961-063b6529f6b2"
      },
      "source": [
        "y_pred=model1.predict(X_test, batch_size=200, verbose=1)"
      ],
      "execution_count": null,
      "outputs": [
        {
          "output_type": "stream",
          "text": [
            "13/13 [==============================] - 1s 19ms/step\n"
          ],
          "name": "stdout"
        }
      ]
    },
    {
      "cell_type": "code",
      "metadata": {
        "colab": {
          "base_uri": "https://localhost:8080/"
        },
        "id": "N4kcfT1kipVw",
        "outputId": "fe30c4fd-6e95-4204-a83a-686a900449ce"
      },
      "source": [
        "from sklearn.metrics import classification_report\n",
        "report = classification_report(y_test, y_pred.round())\n",
        "print(report)"
      ],
      "execution_count": null,
      "outputs": [
        {
          "output_type": "stream",
          "text": [
            "              precision    recall  f1-score   support\n",
            "\n",
            "           0       0.24      0.20      0.22       504\n",
            "           1       0.21      0.20      0.21       411\n",
            "           2       0.21      0.20      0.20       438\n",
            "           3       0.24      0.26      0.25       525\n",
            "           4       0.18      0.16      0.17       486\n",
            "           5       0.19      0.17      0.18       196\n",
            "\n",
            "   micro avg       0.21      0.20      0.21      2560\n",
            "   macro avg       0.21      0.20      0.20      2560\n",
            "weighted avg       0.21      0.20      0.21      2560\n",
            " samples avg       0.20      0.20      0.20      2560\n",
            "\n"
          ],
          "name": "stdout"
        }
      ]
    },
    {
      "cell_type": "code",
      "metadata": {
        "colab": {
          "base_uri": "https://localhost:8080/"
        },
        "id": "_ieexdZDiwIF",
        "outputId": "88654d7f-33aa-4904-f7db-127f32384962"
      },
      "source": [
        "# Accuracy\n",
        "from sklearn.metrics import accuracy_score\n",
        "accuracy_score(y_test, y_pred.round())"
      ],
      "execution_count": null,
      "outputs": [
        {
          "output_type": "execute_result",
          "data": {
            "text/plain": [
              "0.204296875"
            ]
          },
          "metadata": {
            "tags": []
          },
          "execution_count": 118
        }
      ]
    },
    {
      "cell_type": "markdown",
      "metadata": {
        "id": "LZJot_LoowCS"
      },
      "source": [
        "RUC , AUC SCORE"
      ]
    },
    {
      "cell_type": "code",
      "metadata": {
        "colab": {
          "base_uri": "https://localhost:8080/"
        },
        "id": "Zza8MM5-i_T3",
        "outputId": "7b805b5b-7add-43fa-b1c4-a308d72425cb"
      },
      "source": [
        "import numpy as np\n",
        "from sklearn.metrics import roc_auc_score\n",
        "roc_auc_score(y_test, y_pred.round())"
      ],
      "execution_count": null,
      "outputs": [
        {
          "output_type": "execute_result",
          "data": {
            "text/plain": [
              "0.524020576780606"
            ]
          },
          "metadata": {
            "tags": []
          },
          "execution_count": 119
        }
      ]
    },
    {
      "cell_type": "code",
      "metadata": {
        "id": "02LuyjkPooZK"
      },
      "source": [
        ""
      ],
      "execution_count": null,
      "outputs": []
    },
    {
      "cell_type": "code",
      "metadata": {
        "id": "p0b2efLBo5yB"
      },
      "source": [
        ""
      ],
      "execution_count": null,
      "outputs": []
    },
    {
      "cell_type": "code",
      "metadata": {
        "id": "ZcSu7YaZo52h"
      },
      "source": [
        ""
      ],
      "execution_count": null,
      "outputs": []
    },
    {
      "cell_type": "code",
      "metadata": {
        "id": "8qFiboIRwpY_"
      },
      "source": [
        ""
      ],
      "execution_count": null,
      "outputs": []
    }
  ]
}