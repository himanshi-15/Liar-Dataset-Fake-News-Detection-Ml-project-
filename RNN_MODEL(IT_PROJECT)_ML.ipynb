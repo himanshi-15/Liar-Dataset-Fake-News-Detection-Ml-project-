{
  "nbformat": 4,
  "nbformat_minor": 0,
  "metadata": {
    "kernelspec": {
      "display_name": "Python 3",
      "language": "python",
      "name": "python3"
    },
    "language_info": {
      "codemirror_mode": {
        "name": "ipython",
        "version": 3
      },
      "file_extension": ".py",
      "mimetype": "text/x-python",
      "name": "python",
      "nbconvert_exporter": "python",
      "pygments_lexer": "ipython3",
      "version": "3.7.6"
    },
    "papermill": {
      "duration": 2724.650172,
      "end_time": "2020-10-06T22:04:52.151005",
      "environment_variables": {},
      "exception": null,
      "input_path": "__notebook__.ipynb",
      "output_path": "__notebook__.ipynb",
      "parameters": {},
      "start_time": "2020-10-06T21:19:27.500833",
      "version": "2.1.0"
    },
    "colab": {
      "name": "RNN MODEL(IT PROJECT)-ML.ipynb",
      "provenance": []
    },
    "accelerator": "GPU"
  },
  "cells": [
    {
      "cell_type": "markdown",
      "metadata": {
        "papermill": {
          "duration": 0.030876,
          "end_time": "2020-10-06T21:19:31.915205",
          "exception": false,
          "start_time": "2020-10-06T21:19:31.884329",
          "status": "completed"
        },
        "tags": [],
        "id": "nmxgwM5VMQa1"
      },
      "source": [
        "# Imports"
      ]
    },
    {
      "cell_type": "code",
      "metadata": {
        "execution": {
          "iopub.execute_input": "2020-10-06T21:19:31.986613Z",
          "iopub.status.busy": "2020-10-06T21:19:31.985943Z",
          "iopub.status.idle": "2020-10-06T21:19:41.514922Z",
          "shell.execute_reply": "2020-10-06T21:19:41.515686Z"
        },
        "papermill": {
          "duration": 9.569887,
          "end_time": "2020-10-06T21:19:41.515898",
          "exception": false,
          "start_time": "2020-10-06T21:19:31.946011",
          "status": "completed"
        },
        "tags": [],
        "colab": {
          "base_uri": "https://localhost:8080/"
        },
        "id": "ahU7tFUmMQa2",
        "outputId": "dd65a649-cd74-40f7-c2a2-517506e6437b"
      },
      "source": [
        "import re\n",
        "import matplotlib.pyplot as plt\n",
        "import string\n",
        "from nltk.corpus import stopwords\n",
        "import nltk\n",
        "from nltk.corpus import wordnet\n",
        "from nltk.stem import WordNetLemmatizer\n",
        "from nltk.tokenize.treebank import TreebankWordDetokenizer\n",
        "from collections import Counter\n",
        "from wordcloud import WordCloud\n",
        "from nltk.corpus import stopwords\n",
        "import nltk\n",
        "from gensim.utils import simple_preprocess\n",
        "from nltk.corpus import stopwords\n",
        "import gensim\n",
        "from sklearn.model_selection import train_test_split\n",
        "import spacy\n",
        "import pickle\n",
        "import warnings\n",
        "warnings.filterwarnings('ignore')\n",
        "import seaborn as sns\n",
        "from sklearn.metrics import confusion_matrix\n",
        "import matplotlib.pyplot as plt \n",
        "import tensorflow as tf\n",
        "import keras\n",
        "import numpy as np\n",
        "import pandas as pd\n",
        "print('Done')"
      ],
      "execution_count": null,
      "outputs": [
        {
          "output_type": "stream",
          "text": [
            "Done\n"
          ],
          "name": "stdout"
        }
      ]
    },
    {
      "cell_type": "code",
      "metadata": {
        "colab": {
          "base_uri": "https://localhost:8080/"
        },
        "id": "W59vnuSCM0UH",
        "outputId": "b1de59b2-7b71-4665-c53d-d99e7c925bd6"
      },
      "source": [
        "from google.colab import drive\n",
        "drive.mount(\"/content/drive\")"
      ],
      "execution_count": null,
      "outputs": [
        {
          "output_type": "stream",
          "text": [
            "Drive already mounted at /content/drive; to attempt to forcibly remount, call drive.mount(\"/content/drive\", force_remount=True).\n"
          ],
          "name": "stdout"
        }
      ]
    },
    {
      "cell_type": "markdown",
      "metadata": {
        "papermill": {
          "duration": 0.032245,
          "end_time": "2020-10-06T21:19:41.583484",
          "exception": false,
          "start_time": "2020-10-06T21:19:41.551239",
          "status": "completed"
        },
        "tags": [],
        "id": "6FbD3YDsMQa4"
      },
      "source": [
        "# Data importing"
      ]
    },
    {
      "cell_type": "code",
      "metadata": {
        "_cell_guid": "79c7e3d0-c299-4dcb-8224-4455121ee9b0",
        "_uuid": "d629ff2d2480ee46fbb7e2d37f6b5fab8052498a",
        "execution": {
          "iopub.execute_input": "2020-10-06T21:19:41.667156Z",
          "iopub.status.busy": "2020-10-06T21:19:41.666425Z",
          "iopub.status.idle": "2020-10-06T21:19:41.753917Z",
          "shell.execute_reply": "2020-10-06T21:19:41.752384Z"
        },
        "papermill": {
          "duration": 0.132806,
          "end_time": "2020-10-06T21:19:41.754037",
          "exception": false,
          "start_time": "2020-10-06T21:19:41.621231",
          "status": "completed"
        },
        "tags": [],
        "id": "NigMF-33MQa4"
      },
      "source": [
        "train = pd.read_csv('/content/drive/MyDrive/train.csv')"
      ],
      "execution_count": null,
      "outputs": []
    },
    {
      "cell_type": "markdown",
      "metadata": {
        "papermill": {
          "duration": 0.031706,
          "end_time": "2020-10-06T21:19:41.817762",
          "exception": false,
          "start_time": "2020-10-06T21:19:41.786056",
          "status": "completed"
        },
        "tags": [],
        "id": "XITtMOPXMQa5"
      },
      "source": [
        "# Data exploration"
      ]
    },
    {
      "cell_type": "code",
      "metadata": {
        "execution": {
          "iopub.execute_input": "2020-10-06T21:19:41.898583Z",
          "iopub.status.busy": "2020-10-06T21:19:41.897942Z",
          "iopub.status.idle": "2020-10-06T21:19:41.908219Z",
          "shell.execute_reply": "2020-10-06T21:19:41.908804Z"
        },
        "papermill": {
          "duration": 0.05902,
          "end_time": "2020-10-06T21:19:41.908931",
          "exception": false,
          "start_time": "2020-10-06T21:19:41.849911",
          "status": "completed"
        },
        "tags": [],
        "colab": {
          "base_uri": "https://localhost:8080/",
          "height": 340
        },
        "id": "pA-4xgPUMQa6",
        "outputId": "e935fbbf-cb75-4d4b-8a81-f206b5d44744"
      },
      "source": [
        "train.head()"
      ],
      "execution_count": null,
      "outputs": [
        {
          "output_type": "execute_result",
          "data": {
            "text/html": [
              "<div>\n",
              "<style scoped>\n",
              "    .dataframe tbody tr th:only-of-type {\n",
              "        vertical-align: middle;\n",
              "    }\n",
              "\n",
              "    .dataframe tbody tr th {\n",
              "        vertical-align: top;\n",
              "    }\n",
              "\n",
              "    .dataframe thead th {\n",
              "        text-align: right;\n",
              "    }\n",
              "</style>\n",
              "<table border=\"1\" class=\"dataframe\">\n",
              "  <thead>\n",
              "    <tr style=\"text-align: right;\">\n",
              "      <th></th>\n",
              "      <th>ID</th>\n",
              "      <th>Label</th>\n",
              "      <th>Statement</th>\n",
              "      <th>Subject</th>\n",
              "      <th>Speaker</th>\n",
              "      <th>Speaker's Job Title</th>\n",
              "      <th>State</th>\n",
              "      <th>Party</th>\n",
              "      <th>Barely True Count</th>\n",
              "      <th>False Count</th>\n",
              "      <th>Half True Count</th>\n",
              "      <th>Mostly True Count</th>\n",
              "      <th>Pants on Fire</th>\n",
              "      <th>Context</th>\n",
              "    </tr>\n",
              "  </thead>\n",
              "  <tbody>\n",
              "    <tr>\n",
              "      <th>0</th>\n",
              "      <td>2635.json</td>\n",
              "      <td>FALSE</td>\n",
              "      <td>Says the Annies List political group supports ...</td>\n",
              "      <td>abortion</td>\n",
              "      <td>dwayne-bohac</td>\n",
              "      <td>State representative</td>\n",
              "      <td>Texas</td>\n",
              "      <td>republican</td>\n",
              "      <td>0.0</td>\n",
              "      <td>1.0</td>\n",
              "      <td>0.0</td>\n",
              "      <td>0.0</td>\n",
              "      <td>0.0</td>\n",
              "      <td>a mailer</td>\n",
              "    </tr>\n",
              "    <tr>\n",
              "      <th>1</th>\n",
              "      <td>10540.json</td>\n",
              "      <td>half-true</td>\n",
              "      <td>When did the decline of coal start? It started...</td>\n",
              "      <td>energy,history,job-accomplishments</td>\n",
              "      <td>scott-surovell</td>\n",
              "      <td>State delegate</td>\n",
              "      <td>Virginia</td>\n",
              "      <td>democrat</td>\n",
              "      <td>0.0</td>\n",
              "      <td>0.0</td>\n",
              "      <td>1.0</td>\n",
              "      <td>1.0</td>\n",
              "      <td>0.0</td>\n",
              "      <td>a floor speech.</td>\n",
              "    </tr>\n",
              "    <tr>\n",
              "      <th>2</th>\n",
              "      <td>324.json</td>\n",
              "      <td>mostly-true</td>\n",
              "      <td>Hillary Clinton agrees with John McCain \"by vo...</td>\n",
              "      <td>foreign-policy</td>\n",
              "      <td>barack-obama</td>\n",
              "      <td>President</td>\n",
              "      <td>Illinois</td>\n",
              "      <td>democrat</td>\n",
              "      <td>70.0</td>\n",
              "      <td>71.0</td>\n",
              "      <td>160.0</td>\n",
              "      <td>163.0</td>\n",
              "      <td>9.0</td>\n",
              "      <td>Denver</td>\n",
              "    </tr>\n",
              "    <tr>\n",
              "      <th>3</th>\n",
              "      <td>1123.json</td>\n",
              "      <td>FALSE</td>\n",
              "      <td>Health care reform legislation is likely to ma...</td>\n",
              "      <td>health-care</td>\n",
              "      <td>blog-posting</td>\n",
              "      <td>NaN</td>\n",
              "      <td>NaN</td>\n",
              "      <td>none</td>\n",
              "      <td>7.0</td>\n",
              "      <td>19.0</td>\n",
              "      <td>3.0</td>\n",
              "      <td>5.0</td>\n",
              "      <td>44.0</td>\n",
              "      <td>a news release</td>\n",
              "    </tr>\n",
              "    <tr>\n",
              "      <th>4</th>\n",
              "      <td>9028.json</td>\n",
              "      <td>half-true</td>\n",
              "      <td>The economic turnaround started at the end of ...</td>\n",
              "      <td>economy,jobs</td>\n",
              "      <td>charlie-crist</td>\n",
              "      <td>NaN</td>\n",
              "      <td>Florida</td>\n",
              "      <td>democrat</td>\n",
              "      <td>15.0</td>\n",
              "      <td>9.0</td>\n",
              "      <td>20.0</td>\n",
              "      <td>19.0</td>\n",
              "      <td>2.0</td>\n",
              "      <td>an interview on CNN</td>\n",
              "    </tr>\n",
              "  </tbody>\n",
              "</table>\n",
              "</div>"
            ],
            "text/plain": [
              "          ID         Label  ... Pants on Fire              Context\n",
              "0   2635.json        FALSE  ...           0.0             a mailer\n",
              "1  10540.json    half-true  ...           0.0      a floor speech.\n",
              "2    324.json  mostly-true  ...           9.0               Denver\n",
              "3   1123.json        FALSE  ...          44.0       a news release\n",
              "4   9028.json    half-true  ...           2.0  an interview on CNN\n",
              "\n",
              "[5 rows x 14 columns]"
            ]
          },
          "metadata": {
            "tags": []
          },
          "execution_count": 6
        }
      ]
    },
    {
      "cell_type": "code",
      "metadata": {
        "execution": {
          "iopub.execute_input": "2020-10-06T21:19:41.980569Z",
          "iopub.status.busy": "2020-10-06T21:19:41.979730Z",
          "iopub.status.idle": "2020-10-06T21:19:41.983566Z",
          "shell.execute_reply": "2020-10-06T21:19:41.983073Z"
        },
        "papermill": {
          "duration": 0.041264,
          "end_time": "2020-10-06T21:19:41.983666",
          "exception": false,
          "start_time": "2020-10-06T21:19:41.942402",
          "status": "completed"
        },
        "tags": [],
        "colab": {
          "base_uri": "https://localhost:8080/"
        },
        "id": "wOGdosy-MQa6",
        "outputId": "d8c23175-30e8-4e7f-b1c7-e0ec292b38ff"
      },
      "source": [
        "#Let's get the dataset lenght\n",
        "len(train)"
      ],
      "execution_count": null,
      "outputs": [
        {
          "output_type": "execute_result",
          "data": {
            "text/plain": [
              "10240"
            ]
          },
          "metadata": {
            "tags": []
          },
          "execution_count": 7
        }
      ]
    },
    {
      "cell_type": "code",
      "metadata": {
        "execution": {
          "iopub.execute_input": "2020-10-06T21:19:42.060070Z",
          "iopub.status.busy": "2020-10-06T21:19:42.059141Z",
          "iopub.status.idle": "2020-10-06T21:19:42.064587Z",
          "shell.execute_reply": "2020-10-06T21:19:42.064115Z"
        },
        "papermill": {
          "duration": 0.047577,
          "end_time": "2020-10-06T21:19:42.064691",
          "exception": false,
          "start_time": "2020-10-06T21:19:42.017114",
          "status": "completed"
        },
        "tags": [],
        "colab": {
          "base_uri": "https://localhost:8080/"
        },
        "id": "oB7vKFtUMQa7",
        "outputId": "b9af492b-36ab-4df7-d8b4-994cee9855e4"
      },
      "source": [
        "#Is there any other different value than neutral, negative and positive?\n",
        "train['Label'].unique()"
      ],
      "execution_count": null,
      "outputs": [
        {
          "output_type": "execute_result",
          "data": {
            "text/plain": [
              "array(['FALSE', 'half-true', 'mostly-true', 'TRUE', 'barely-true',\n",
              "       'pants-fire'], dtype=object)"
            ]
          },
          "metadata": {
            "tags": []
          },
          "execution_count": 8
        }
      ]
    },
    {
      "cell_type": "code",
      "metadata": {
        "execution": {
          "iopub.execute_input": "2020-10-06T21:19:42.143106Z",
          "iopub.status.busy": "2020-10-06T21:19:42.142318Z",
          "iopub.status.idle": "2020-10-06T21:19:42.185676Z",
          "shell.execute_reply": "2020-10-06T21:19:42.186310Z"
        },
        "papermill": {
          "duration": 0.088183,
          "end_time": "2020-10-06T21:19:42.186453",
          "exception": false,
          "start_time": "2020-10-06T21:19:42.098270",
          "status": "completed"
        },
        "tags": [],
        "colab": {
          "base_uri": "https://localhost:8080/",
          "height": 317
        },
        "id": "Maq5sPOCMQa8",
        "outputId": "83c32fbd-4a7e-4d34-b1a8-7cdd16d291e9"
      },
      "source": [
        "#How's distributed the dataset? Is it biased?\n",
        "train.groupby('Label').nunique()"
      ],
      "execution_count": null,
      "outputs": [
        {
          "output_type": "execute_result",
          "data": {
            "text/html": [
              "<div>\n",
              "<style scoped>\n",
              "    .dataframe tbody tr th:only-of-type {\n",
              "        vertical-align: middle;\n",
              "    }\n",
              "\n",
              "    .dataframe tbody tr th {\n",
              "        vertical-align: top;\n",
              "    }\n",
              "\n",
              "    .dataframe thead th {\n",
              "        text-align: right;\n",
              "    }\n",
              "</style>\n",
              "<table border=\"1\" class=\"dataframe\">\n",
              "  <thead>\n",
              "    <tr style=\"text-align: right;\">\n",
              "      <th></th>\n",
              "      <th>ID</th>\n",
              "      <th>Statement</th>\n",
              "      <th>Subject</th>\n",
              "      <th>Speaker</th>\n",
              "      <th>Speaker's Job Title</th>\n",
              "      <th>State</th>\n",
              "      <th>Party</th>\n",
              "      <th>Barely True Count</th>\n",
              "      <th>False Count</th>\n",
              "      <th>Half True Count</th>\n",
              "      <th>Mostly True Count</th>\n",
              "      <th>Pants on Fire</th>\n",
              "      <th>Context</th>\n",
              "    </tr>\n",
              "    <tr>\n",
              "      <th>Label</th>\n",
              "      <th></th>\n",
              "      <th></th>\n",
              "      <th></th>\n",
              "      <th></th>\n",
              "      <th></th>\n",
              "      <th></th>\n",
              "      <th></th>\n",
              "      <th></th>\n",
              "      <th></th>\n",
              "      <th></th>\n",
              "      <th></th>\n",
              "      <th></th>\n",
              "      <th></th>\n",
              "    </tr>\n",
              "  </thead>\n",
              "  <tbody>\n",
              "    <tr>\n",
              "      <th>FALSE</th>\n",
              "      <td>1995</td>\n",
              "      <td>1988</td>\n",
              "      <td>1036</td>\n",
              "      <td>934</td>\n",
              "      <td>400</td>\n",
              "      <td>49</td>\n",
              "      <td>18</td>\n",
              "      <td>30</td>\n",
              "      <td>30</td>\n",
              "      <td>29</td>\n",
              "      <td>27</td>\n",
              "      <td>20</td>\n",
              "      <td>1173</td>\n",
              "    </tr>\n",
              "    <tr>\n",
              "      <th>TRUE</th>\n",
              "      <td>1676</td>\n",
              "      <td>1674</td>\n",
              "      <td>835</td>\n",
              "      <td>842</td>\n",
              "      <td>386</td>\n",
              "      <td>49</td>\n",
              "      <td>15</td>\n",
              "      <td>30</td>\n",
              "      <td>30</td>\n",
              "      <td>29</td>\n",
              "      <td>27</td>\n",
              "      <td>18</td>\n",
              "      <td>1000</td>\n",
              "    </tr>\n",
              "    <tr>\n",
              "      <th>barely-true</th>\n",
              "      <td>1654</td>\n",
              "      <td>1654</td>\n",
              "      <td>923</td>\n",
              "      <td>813</td>\n",
              "      <td>340</td>\n",
              "      <td>50</td>\n",
              "      <td>14</td>\n",
              "      <td>29</td>\n",
              "      <td>30</td>\n",
              "      <td>29</td>\n",
              "      <td>27</td>\n",
              "      <td>20</td>\n",
              "      <td>951</td>\n",
              "    </tr>\n",
              "    <tr>\n",
              "      <th>half-true</th>\n",
              "      <td>2114</td>\n",
              "      <td>2112</td>\n",
              "      <td>1125</td>\n",
              "      <td>995</td>\n",
              "      <td>418</td>\n",
              "      <td>50</td>\n",
              "      <td>15</td>\n",
              "      <td>30</td>\n",
              "      <td>30</td>\n",
              "      <td>29</td>\n",
              "      <td>27</td>\n",
              "      <td>19</td>\n",
              "      <td>1167</td>\n",
              "    </tr>\n",
              "    <tr>\n",
              "      <th>mostly-true</th>\n",
              "      <td>1962</td>\n",
              "      <td>1962</td>\n",
              "      <td>1049</td>\n",
              "      <td>923</td>\n",
              "      <td>439</td>\n",
              "      <td>47</td>\n",
              "      <td>17</td>\n",
              "      <td>30</td>\n",
              "      <td>30</td>\n",
              "      <td>29</td>\n",
              "      <td>26</td>\n",
              "      <td>20</td>\n",
              "      <td>1149</td>\n",
              "    </tr>\n",
              "    <tr>\n",
              "      <th>pants-fire</th>\n",
              "      <td>839</td>\n",
              "      <td>839</td>\n",
              "      <td>506</td>\n",
              "      <td>425</td>\n",
              "      <td>202</td>\n",
              "      <td>46</td>\n",
              "      <td>14</td>\n",
              "      <td>30</td>\n",
              "      <td>30</td>\n",
              "      <td>28</td>\n",
              "      <td>26</td>\n",
              "      <td>19</td>\n",
              "      <td>542</td>\n",
              "    </tr>\n",
              "  </tbody>\n",
              "</table>\n",
              "</div>"
            ],
            "text/plain": [
              "              ID   Statement  ...  Pants on Fire  Context\n",
              "Label                         ...                        \n",
              "FALSE        1995       1988  ...             20     1173\n",
              "TRUE         1676       1674  ...             18     1000\n",
              "barely-true  1654       1654  ...             20      951\n",
              "half-true    2114       2112  ...             19     1167\n",
              "mostly-true  1962       1962  ...             20     1149\n",
              "pants-fire    839        839  ...             19      542\n",
              "\n",
              "[6 rows x 13 columns]"
            ]
          },
          "metadata": {
            "tags": []
          },
          "execution_count": 9
        }
      ]
    },
    {
      "cell_type": "markdown",
      "metadata": {
        "papermill": {
          "duration": 0.033994,
          "end_time": "2020-10-06T21:19:42.255666",
          "exception": false,
          "start_time": "2020-10-06T21:19:42.221672",
          "status": "completed"
        },
        "tags": [],
        "id": "Ipu0QQwpMQa8"
      },
      "source": [
        "# Data cleaning\n",
        "\n",
        "Even when the dataset is a little bit biased, we'll keep it this way because the differences are not significant."
      ]
    },
    {
      "cell_type": "code",
      "metadata": {
        "execution": {
          "iopub.execute_input": "2020-10-06T21:19:42.334657Z",
          "iopub.status.busy": "2020-10-06T21:19:42.333827Z",
          "iopub.status.idle": "2020-10-06T21:19:42.337209Z",
          "shell.execute_reply": "2020-10-06T21:19:42.337696Z"
        },
        "papermill": {
          "duration": 0.04812,
          "end_time": "2020-10-06T21:19:42.337823",
          "exception": false,
          "start_time": "2020-10-06T21:19:42.289703",
          "status": "completed"
        },
        "tags": [],
        "colab": {
          "base_uri": "https://localhost:8080/",
          "height": 204
        },
        "id": "5pjOC8L9MQa9",
        "outputId": "5afb5ba9-4a38-4a2b-bd77-30b0d9bfd541"
      },
      "source": [
        "#Let's keep only the columns that we're going to use\n",
        "train = train[['Statement','Label']]\n",
        "train.head()"
      ],
      "execution_count": null,
      "outputs": [
        {
          "output_type": "execute_result",
          "data": {
            "text/html": [
              "<div>\n",
              "<style scoped>\n",
              "    .dataframe tbody tr th:only-of-type {\n",
              "        vertical-align: middle;\n",
              "    }\n",
              "\n",
              "    .dataframe tbody tr th {\n",
              "        vertical-align: top;\n",
              "    }\n",
              "\n",
              "    .dataframe thead th {\n",
              "        text-align: right;\n",
              "    }\n",
              "</style>\n",
              "<table border=\"1\" class=\"dataframe\">\n",
              "  <thead>\n",
              "    <tr style=\"text-align: right;\">\n",
              "      <th></th>\n",
              "      <th>Statement</th>\n",
              "      <th>Label</th>\n",
              "    </tr>\n",
              "  </thead>\n",
              "  <tbody>\n",
              "    <tr>\n",
              "      <th>0</th>\n",
              "      <td>Says the Annies List political group supports ...</td>\n",
              "      <td>FALSE</td>\n",
              "    </tr>\n",
              "    <tr>\n",
              "      <th>1</th>\n",
              "      <td>When did the decline of coal start? It started...</td>\n",
              "      <td>half-true</td>\n",
              "    </tr>\n",
              "    <tr>\n",
              "      <th>2</th>\n",
              "      <td>Hillary Clinton agrees with John McCain \"by vo...</td>\n",
              "      <td>mostly-true</td>\n",
              "    </tr>\n",
              "    <tr>\n",
              "      <th>3</th>\n",
              "      <td>Health care reform legislation is likely to ma...</td>\n",
              "      <td>FALSE</td>\n",
              "    </tr>\n",
              "    <tr>\n",
              "      <th>4</th>\n",
              "      <td>The economic turnaround started at the end of ...</td>\n",
              "      <td>half-true</td>\n",
              "    </tr>\n",
              "  </tbody>\n",
              "</table>\n",
              "</div>"
            ],
            "text/plain": [
              "                                           Statement        Label\n",
              "0  Says the Annies List political group supports ...        FALSE\n",
              "1  When did the decline of coal start? It started...    half-true\n",
              "2  Hillary Clinton agrees with John McCain \"by vo...  mostly-true\n",
              "3  Health care reform legislation is likely to ma...        FALSE\n",
              "4  The economic turnaround started at the end of ...    half-true"
            ]
          },
          "metadata": {
            "tags": []
          },
          "execution_count": 10
        }
      ]
    },
    {
      "cell_type": "code",
      "metadata": {
        "execution": {
          "iopub.execute_input": "2020-10-06T21:19:42.415166Z",
          "iopub.status.busy": "2020-10-06T21:19:42.414365Z",
          "iopub.status.idle": "2020-10-06T21:19:42.418112Z",
          "shell.execute_reply": "2020-10-06T21:19:42.417659Z"
        },
        "papermill": {
          "duration": 0.0451,
          "end_time": "2020-10-06T21:19:42.418205",
          "exception": false,
          "start_time": "2020-10-06T21:19:42.373105",
          "status": "completed"
        },
        "tags": [],
        "colab": {
          "base_uri": "https://localhost:8080/"
        },
        "id": "290GzJ21MQa-",
        "outputId": "03627b11-c143-4713-f923-2f6606a2d93a"
      },
      "source": [
        "#Is there any null value?\n",
        "train[\"Statement\"].isnull().sum()"
      ],
      "execution_count": null,
      "outputs": [
        {
          "output_type": "execute_result",
          "data": {
            "text/plain": [
              "0"
            ]
          },
          "metadata": {
            "tags": []
          },
          "execution_count": 11
        }
      ]
    },
    {
      "cell_type": "code",
      "metadata": {
        "execution": {
          "iopub.execute_input": "2020-10-06T21:19:42.499946Z",
          "iopub.status.busy": "2020-10-06T21:19:42.498153Z",
          "iopub.status.idle": "2020-10-06T21:19:42.500760Z",
          "shell.execute_reply": "2020-10-06T21:19:42.501276Z"
        },
        "papermill": {
          "duration": 0.047154,
          "end_time": "2020-10-06T21:19:42.501409",
          "exception": false,
          "start_time": "2020-10-06T21:19:42.454255",
          "status": "completed"
        },
        "tags": [],
        "id": "vfrAbuiIMQa-"
      },
      "source": [
        "#Let's fill the only null value.\n",
        "train[\"Statement\"].fillna(\"No content\", inplace = True)"
      ],
      "execution_count": null,
      "outputs": []
    },
    {
      "cell_type": "code",
      "metadata": {
        "colab": {
          "base_uri": "https://localhost:8080/"
        },
        "id": "y1U6xbvWOE4K",
        "outputId": "a6373abb-f435-4ec4-bcf3-693050067abe"
      },
      "source": [
        "train[\"Statement\"].isnull().sum()"
      ],
      "execution_count": null,
      "outputs": [
        {
          "output_type": "execute_result",
          "data": {
            "text/plain": [
              "0"
            ]
          },
          "metadata": {
            "tags": []
          },
          "execution_count": 13
        }
      ]
    },
    {
      "cell_type": "markdown",
      "metadata": {
        "papermill": {
          "duration": 0.035753,
          "end_time": "2020-10-06T21:19:42.572975",
          "exception": false,
          "start_time": "2020-10-06T21:19:42.537222",
          "status": "completed"
        },
        "tags": [],
        "id": "hm7jDiNfMQa_"
      },
      "source": [
        "### The next steps about data cleaning will be:\n",
        "\n",
        "* Remove URLs from the tweets\n",
        "* Tokenize text\n",
        "* Remove emails\n",
        "* Remove new lines characters\n",
        "* Remove distracting single quotes\n",
        "* Remove all punctuation signs\n",
        "* Lowercase all text\n",
        "* Detokenize text\n",
        "* Convert list of texts to Numpy array"
      ]
    },
    {
      "cell_type": "code",
      "metadata": {
        "execution": {
          "iopub.execute_input": "2020-10-06T21:19:42.651469Z",
          "iopub.status.busy": "2020-10-06T21:19:42.650518Z",
          "iopub.status.idle": "2020-10-06T21:19:42.653091Z",
          "shell.execute_reply": "2020-10-06T21:19:42.653513Z"
        },
        "papermill": {
          "duration": 0.044735,
          "end_time": "2020-10-06T21:19:42.653654",
          "exception": false,
          "start_time": "2020-10-06T21:19:42.608919",
          "status": "completed"
        },
        "tags": [],
        "id": "AXSdHXk1MQa_"
      },
      "source": [
        "def depure_data(data):\n",
        "    \n",
        "    #Removing URLs with a regular expression\n",
        "    url_pattern = re.compile(r'https?://\\S+|www\\.\\S+')\n",
        "    data = url_pattern.sub(r'', data)\n",
        "\n",
        "    # Remove Emails\n",
        "    data = re.sub('\\S*@\\S*\\s?', '', data)\n",
        "\n",
        "    # Remove new line characters\n",
        "    data = re.sub('\\s+', ' ', data)\n",
        "\n",
        "    # Remove distracting single quotes\n",
        "    data = re.sub(\"\\'\", \"\", data)\n",
        "        \n",
        "    return data"
      ],
      "execution_count": null,
      "outputs": []
    },
    {
      "cell_type": "code",
      "metadata": {
        "execution": {
          "iopub.execute_input": "2020-10-06T21:19:42.742866Z",
          "iopub.status.busy": "2020-10-06T21:19:42.737799Z",
          "iopub.status.idle": "2020-10-06T21:19:43.099846Z",
          "shell.execute_reply": "2020-10-06T21:19:43.100317Z"
        },
        "papermill": {
          "duration": 0.411166,
          "end_time": "2020-10-06T21:19:43.100446",
          "exception": false,
          "start_time": "2020-10-06T21:19:42.689280",
          "status": "completed"
        },
        "tags": [],
        "colab": {
          "base_uri": "https://localhost:8080/"
        },
        "id": "Shy0nuqUMQbA",
        "outputId": "37d5daa5-f742-414d-9be1-ad4aef0c99a0"
      },
      "source": [
        "temp = []\n",
        "#Splitting pd.Series to list\n",
        "data_to_list = train[\"Statement\"].values.tolist()\n",
        "for i in range(len(data_to_list)):\n",
        "    temp.append(depure_data(data_to_list[i]))\n",
        "list(temp[:5])"
      ],
      "execution_count": null,
      "outputs": [
        {
          "output_type": "execute_result",
          "data": {
            "text/plain": [
              "['Says the Annies List political group supports third-trimester abortions on demand.',\n",
              " 'When did the decline of coal start? It started when natural gas took off that started to begin in (President George W.) Bushs administration.',\n",
              " 'Hillary Clinton agrees with John McCain \"by voting to give George Bush the benefit of the doubt on Iran.\"',\n",
              " 'Health care reform legislation is likely to mandate free sex change surgeries.',\n",
              " 'The economic turnaround started at the end of my term.']"
            ]
          },
          "metadata": {
            "tags": []
          },
          "execution_count": 15
        }
      ]
    },
    {
      "cell_type": "code",
      "metadata": {
        "execution": {
          "iopub.execute_input": "2020-10-06T21:19:43.217126Z",
          "iopub.status.busy": "2020-10-06T21:19:43.201831Z",
          "iopub.status.idle": "2020-10-06T21:19:44.301157Z",
          "shell.execute_reply": "2020-10-06T21:19:44.300459Z"
        },
        "papermill": {
          "duration": 1.161143,
          "end_time": "2020-10-06T21:19:44.301321",
          "exception": false,
          "start_time": "2020-10-06T21:19:43.140178",
          "status": "completed"
        },
        "tags": [],
        "colab": {
          "base_uri": "https://localhost:8080/"
        },
        "id": "CdZTjNupMQbA",
        "outputId": "21608ab5-56f0-40de-d2ae-0e0970e61063"
      },
      "source": [
        "def sent_to_words(sentences):\n",
        "    for sentence in sentences:\n",
        "        yield(gensim.utils.simple_preprocess(str(sentence), deacc=True))  # deacc=True removes punctuations\n",
        "        \n",
        "\n",
        "data_words = list(sent_to_words(temp))\n",
        "\n",
        "print(data_words[:10])"
      ],
      "execution_count": null,
      "outputs": [
        {
          "output_type": "stream",
          "text": [
            "[['says', 'the', 'annies', 'list', 'political', 'group', 'supports', 'third', 'trimester', 'abortions', 'on', 'demand'], ['when', 'did', 'the', 'decline', 'of', 'coal', 'start', 'it', 'started', 'when', 'natural', 'gas', 'took', 'off', 'that', 'started', 'to', 'begin', 'in', 'president', 'george', 'bushs', 'administration'], ['hillary', 'clinton', 'agrees', 'with', 'john', 'mccain', 'by', 'voting', 'to', 'give', 'george', 'bush', 'the', 'benefit', 'of', 'the', 'doubt', 'on', 'iran'], ['health', 'care', 'reform', 'legislation', 'is', 'likely', 'to', 'mandate', 'free', 'sex', 'change', 'surgeries'], ['the', 'economic', 'turnaround', 'started', 'at', 'the', 'end', 'of', 'my', 'term'], ['the', 'chicago', 'bears', 'have', 'had', 'more', 'starting', 'quarterbacks', 'in', 'the', 'last', 'years', 'than', 'the', 'total', 'number', 'of', 'tenured', 'uw', 'faculty', 'fired', 'during', 'the', 'last', 'two', 'decades'], ['jim', 'dunnam', 'has', 'not', 'lived', 'in', 'the', 'district', 'he', 'represents', 'for', 'years', 'now'], ['im', 'the', 'only', 'person', 'on', 'this', 'stage', 'who', 'has', 'worked', 'actively', 'just', 'last', 'year', 'passing', 'along', 'with', 'russ', 'feingold', 'some', 'of', 'the', 'toughest', 'ethics', 'reform', 'since', 'watergate'], ['however', 'it', 'took', 'million', 'in', 'oregon', 'lottery', 'funds', 'for', 'the', 'port', 'of', 'newport', 'to', 'eventually', 'land', 'the', 'new', 'noaa', 'marine', 'operations', 'center', 'pacific'], ['says', 'gop', 'primary', 'opponents', 'glenn', 'grothman', 'and', 'joe', 'leibham', 'cast', 'compromise', 'vote', 'that', 'cost', 'million', 'in', 'higher', 'electricity', 'costs']]\n"
          ],
          "name": "stdout"
        }
      ]
    },
    {
      "cell_type": "code",
      "metadata": {
        "execution": {
          "iopub.execute_input": "2020-10-06T21:19:44.381205Z",
          "iopub.status.busy": "2020-10-06T21:19:44.380312Z",
          "iopub.status.idle": "2020-10-06T21:19:44.384281Z",
          "shell.execute_reply": "2020-10-06T21:19:44.383753Z"
        },
        "papermill": {
          "duration": 0.045481,
          "end_time": "2020-10-06T21:19:44.384376",
          "exception": false,
          "start_time": "2020-10-06T21:19:44.338895",
          "status": "completed"
        },
        "tags": [],
        "colab": {
          "base_uri": "https://localhost:8080/"
        },
        "id": "mYhsQsWlMQbB",
        "outputId": "1b4179cb-3fec-41a5-ae9c-d0ecec9a0c51"
      },
      "source": [
        "len(data_words)"
      ],
      "execution_count": null,
      "outputs": [
        {
          "output_type": "execute_result",
          "data": {
            "text/plain": [
              "10240"
            ]
          },
          "metadata": {
            "tags": []
          },
          "execution_count": 17
        }
      ]
    },
    {
      "cell_type": "code",
      "metadata": {
        "execution": {
          "iopub.execute_input": "2020-10-06T21:19:44.465126Z",
          "iopub.status.busy": "2020-10-06T21:19:44.464351Z",
          "iopub.status.idle": "2020-10-06T21:19:44.467376Z",
          "shell.execute_reply": "2020-10-06T21:19:44.466918Z"
        },
        "papermill": {
          "duration": 0.045096,
          "end_time": "2020-10-06T21:19:44.467470",
          "exception": false,
          "start_time": "2020-10-06T21:19:44.422374",
          "status": "completed"
        },
        "tags": [],
        "id": "7HW9kQ5CMQbC"
      },
      "source": [
        "def detokenize(text):\n",
        "    return TreebankWordDetokenizer().detokenize(text)"
      ],
      "execution_count": null,
      "outputs": []
    },
    {
      "cell_type": "code",
      "metadata": {
        "execution": {
          "iopub.execute_input": "2020-10-06T21:19:44.561022Z",
          "iopub.status.busy": "2020-10-06T21:19:44.550825Z",
          "iopub.status.idle": "2020-10-06T21:19:47.831584Z",
          "shell.execute_reply": "2020-10-06T21:19:47.832620Z"
        },
        "papermill": {
          "duration": 3.326682,
          "end_time": "2020-10-06T21:19:47.832800",
          "exception": false,
          "start_time": "2020-10-06T21:19:44.506118",
          "status": "completed"
        },
        "tags": [],
        "colab": {
          "base_uri": "https://localhost:8080/"
        },
        "id": "XeU93Y58MQbC",
        "outputId": "d39dddee-1b3f-4ebd-b3b3-726cf8de28dc"
      },
      "source": [
        "data = []\n",
        "for i in range(len(data_words)):\n",
        "    data.append(detokenize(data_words[i]))\n",
        "print(data[:5])"
      ],
      "execution_count": null,
      "outputs": [
        {
          "output_type": "stream",
          "text": [
            "['says the annies list political group supports third trimester abortions on demand', 'when did the decline of coal start it started when natural gas took off that started to begin in president george bushs administration', 'hillary clinton agrees with john mccain by voting to give george bush the benefit of the doubt on iran', 'health care reform legislation is likely to mandate free sex change surgeries', 'the economic turnaround started at the end of my term']\n"
          ],
          "name": "stdout"
        }
      ]
    },
    {
      "cell_type": "code",
      "metadata": {
        "execution": {
          "iopub.execute_input": "2020-10-06T21:19:47.936780Z",
          "iopub.status.busy": "2020-10-06T21:19:47.934885Z",
          "iopub.status.idle": "2020-10-06T21:19:47.937552Z",
          "shell.execute_reply": "2020-10-06T21:19:47.938090Z"
        },
        "papermill": {
          "duration": 0.06542,
          "end_time": "2020-10-06T21:19:47.938217",
          "exception": false,
          "start_time": "2020-10-06T21:19:47.872797",
          "status": "completed"
        },
        "tags": [],
        "id": "GwXOpk3dMQbD"
      },
      "source": [
        "data = np.array(data)"
      ],
      "execution_count": null,
      "outputs": []
    },
    {
      "cell_type": "code",
      "metadata": {
        "colab": {
          "base_uri": "https://localhost:8080/"
        },
        "id": "VE9V2QGVUOPK",
        "outputId": "197bfd30-b2c0-453f-8b79-84675bafb6df"
      },
      "source": [
        "len(data)"
      ],
      "execution_count": null,
      "outputs": [
        {
          "output_type": "execute_result",
          "data": {
            "text/plain": [
              "10240"
            ]
          },
          "metadata": {
            "tags": []
          },
          "execution_count": 21
        }
      ]
    },
    {
      "cell_type": "markdown",
      "metadata": {
        "papermill": {
          "duration": 0.037183,
          "end_time": "2020-10-06T21:19:48.013459",
          "exception": false,
          "start_time": "2020-10-06T21:19:47.976276",
          "status": "completed"
        },
        "tags": [],
        "id": "eRJEoaRYMQbD"
      },
      "source": [
        "# Label encoding\n",
        "\n",
        "As the dataset has labels 0, 1 ,2 ,3 ,4 and 5. We need to convert them to one hot vector.\n",
        "\n",
        "0-   FALSE\n",
        "\n",
        "1-   TRUE\n",
        "\n",
        "2-   barely-true\n",
        "\n",
        "3-   half-true\n",
        "\n",
        "4-   mostly-true\n",
        "\n",
        "5-   pants-fire"
      ]
    },
    {
      "cell_type": "code",
      "metadata": {
        "id": "FlkjK1L5ObV4"
      },
      "source": [
        "labels = np.array(train['Label'])\n"
      ],
      "execution_count": null,
      "outputs": []
    },
    {
      "cell_type": "code",
      "metadata": {
        "colab": {
          "base_uri": "https://localhost:8080/"
        },
        "id": "Mmi_3hoxOciw",
        "outputId": "40ddb634-0ff9-409e-9932-333f0a3d4dc5"
      },
      "source": [
        "print (labels)"
      ],
      "execution_count": null,
      "outputs": [
        {
          "output_type": "stream",
          "text": [
            "['FALSE' 'half-true' 'mostly-true' ... 'half-true' 'FALSE' 'pants-fire']\n"
          ],
          "name": "stdout"
        }
      ]
    },
    {
      "cell_type": "code",
      "metadata": {
        "id": "udZi5_nezVw-"
      },
      "source": [
        "l=[]\n",
        "for i in labels:\n",
        "  if i==\"FALSE\":\n",
        "    l.append(0)\n",
        "  elif i==\"TRUE\":\n",
        "    l.append(1)\n",
        "  elif i==\"barely-true\":\n",
        "    l.append(2)\n",
        "  elif i==\"half-true\":\n",
        "    l.append(3)\n",
        "  elif i==\"mostly-true\":\n",
        "    l.append(4)\n",
        "  elif i==\"pants-fire\":\n",
        "    l.append(5)\n",
        "\n",
        "y_final = np.array(l)"
      ],
      "execution_count": null,
      "outputs": []
    },
    {
      "cell_type": "code",
      "metadata": {
        "colab": {
          "base_uri": "https://localhost:8080/"
        },
        "id": "3Cf8I-Wuzi6p",
        "outputId": "593039df-964e-4e35-e0b9-5a7332dc962a"
      },
      "source": [
        "print(y_final)"
      ],
      "execution_count": null,
      "outputs": [
        {
          "output_type": "stream",
          "text": [
            "[0 3 4 ... 3 0 5]\n"
          ],
          "name": "stdout"
        }
      ]
    },
    {
      "cell_type": "code",
      "metadata": {
        "id": "_Z_TfeN_PA9B"
      },
      "source": [
        "labels = tf.keras.utils.to_categorical(y_final, 6, dtype=\"float32\")\n",
        "# labels=y_final"
      ],
      "execution_count": null,
      "outputs": []
    },
    {
      "cell_type": "code",
      "metadata": {
        "colab": {
          "base_uri": "https://localhost:8080/"
        },
        "id": "qtYDpp4OUUAA",
        "outputId": "f925c339-733f-4445-e030-9e8dbb3756cf"
      },
      "source": [
        "print (labels)"
      ],
      "execution_count": null,
      "outputs": [
        {
          "output_type": "stream",
          "text": [
            "[[1. 0. 0. 0. 0. 0.]\n",
            " [0. 0. 0. 1. 0. 0.]\n",
            " [0. 0. 0. 0. 1. 0.]\n",
            " ...\n",
            " [0. 0. 0. 1. 0. 0.]\n",
            " [1. 0. 0. 0. 0. 0.]\n",
            " [0. 0. 0. 0. 0. 1.]]\n"
          ],
          "name": "stdout"
        }
      ]
    },
    {
      "cell_type": "code",
      "metadata": {
        "execution": {
          "iopub.execute_input": "2020-10-06T21:19:48.206863Z",
          "iopub.status.busy": "2020-10-06T21:19:48.206068Z",
          "iopub.status.idle": "2020-10-06T21:19:48.209920Z",
          "shell.execute_reply": "2020-10-06T21:19:48.209425Z"
        },
        "papermill": {
          "duration": 0.046647,
          "end_time": "2020-10-06T21:19:48.210021",
          "exception": false,
          "start_time": "2020-10-06T21:19:48.163374",
          "status": "completed"
        },
        "tags": [],
        "colab": {
          "base_uri": "https://localhost:8080/"
        },
        "id": "S7JISYL2MQbE",
        "outputId": "e28edf08-d4da-49f3-ba5a-4aa9cfb41bac"
      },
      "source": [
        "len(labels)"
      ],
      "execution_count": null,
      "outputs": [
        {
          "output_type": "execute_result",
          "data": {
            "text/plain": [
              "10240"
            ]
          },
          "metadata": {
            "tags": []
          },
          "execution_count": 28
        }
      ]
    },
    {
      "cell_type": "markdown",
      "metadata": {
        "papermill": {
          "duration": 0.038298,
          "end_time": "2020-10-06T21:19:48.287312",
          "exception": false,
          "start_time": "2020-10-06T21:19:48.249014",
          "status": "completed"
        },
        "tags": [],
        "id": "dPNxJw_ZMQbE"
      },
      "source": [
        "# Data sequencing and splitting\n"
      ]
    },
    {
      "cell_type": "code",
      "metadata": {
        "execution": {
          "iopub.execute_input": "2020-10-06T21:19:48.373707Z",
          "iopub.status.busy": "2020-10-06T21:19:48.372469Z",
          "iopub.status.idle": "2020-10-06T21:19:49.386819Z",
          "shell.execute_reply": "2020-10-06T21:19:49.387562Z"
        },
        "papermill": {
          "duration": 1.062302,
          "end_time": "2020-10-06T21:19:49.387739",
          "exception": false,
          "start_time": "2020-10-06T21:19:48.325437",
          "status": "completed"
        },
        "tags": [],
        "colab": {
          "base_uri": "https://localhost:8080/"
        },
        "id": "RsOKF4AKMQbF",
        "outputId": "12fda93b-4434-4b4c-de90-de15e2767d64"
      },
      "source": [
        "from keras.models import Sequential\n",
        "from keras import layers\n",
        "from keras.optimizers import RMSprop,Adam\n",
        "from keras.preprocessing.text import Tokenizer\n",
        "from keras.preprocessing.sequence import pad_sequences\n",
        "from keras import regularizers\n",
        "from keras import backend as K\n",
        "from keras.callbacks import ModelCheckpoint\n",
        "max_words = 5000\n",
        "max_len = 200\n",
        "\n",
        "tokenizer = Tokenizer(num_words=max_words)\n",
        "tokenizer.fit_on_texts(data)\n",
        "sequences = tokenizer.texts_to_sequences(data)\n",
        "tweets = pad_sequences(sequences, maxlen=max_len)\n",
        "print(tweets)"
      ],
      "execution_count": null,
      "outputs": [
        {
          "output_type": "stream",
          "text": [
            "[[   0    0    0 ...  545   10 1498]\n",
            " [   0    0    0 ...  291 1022  167]\n",
            " [   0    0    0 ... 3350   10  386]\n",
            " ...\n",
            " [   0    0    0 ...   67  175  124]\n",
            " [   0    0    0 ... 2269    4 1573]\n",
            " [   0    0    0 ...    4 1760 1649]]\n"
          ],
          "name": "stdout"
        }
      ]
    },
    {
      "cell_type": "code",
      "metadata": {
        "colab": {
          "base_uri": "https://localhost:8080/"
        },
        "id": "om55YrQJUksr",
        "outputId": "36b35d61-aa0d-4881-8c79-06321a1b34d5"
      },
      "source": [
        "len(tweets)"
      ],
      "execution_count": null,
      "outputs": [
        {
          "output_type": "execute_result",
          "data": {
            "text/plain": [
              "10240"
            ]
          },
          "metadata": {
            "tags": []
          },
          "execution_count": 30
        }
      ]
    },
    {
      "cell_type": "code",
      "metadata": {
        "colab": {
          "base_uri": "https://localhost:8080/"
        },
        "id": "e5GTFAyFaGqT",
        "outputId": "a57a938f-2220-40d4-cfdc-65af63c6a512"
      },
      "source": [
        "len(tweets[19])"
      ],
      "execution_count": null,
      "outputs": [
        {
          "output_type": "execute_result",
          "data": {
            "text/plain": [
              "200"
            ]
          },
          "metadata": {
            "tags": []
          },
          "execution_count": 31
        }
      ]
    },
    {
      "cell_type": "code",
      "metadata": {
        "execution": {
          "iopub.execute_input": "2020-10-06T21:19:49.478734Z",
          "iopub.status.busy": "2020-10-06T21:19:49.477823Z",
          "iopub.status.idle": "2020-10-06T21:19:49.482217Z",
          "shell.execute_reply": "2020-10-06T21:19:49.483329Z"
        },
        "papermill": {
          "duration": 0.054099,
          "end_time": "2020-10-06T21:19:49.483550",
          "exception": false,
          "start_time": "2020-10-06T21:19:49.429451",
          "status": "completed"
        },
        "tags": [],
        "colab": {
          "base_uri": "https://localhost:8080/"
        },
        "id": "EyHg4PJaMQbH",
        "outputId": "b6af7859-60f1-4318-9ef9-63eacf631a0a"
      },
      "source": [
        "print(labels)"
      ],
      "execution_count": null,
      "outputs": [
        {
          "output_type": "stream",
          "text": [
            "[[1. 0. 0. 0. 0. 0.]\n",
            " [0. 0. 0. 1. 0. 0.]\n",
            " [0. 0. 0. 0. 1. 0.]\n",
            " ...\n",
            " [0. 0. 0. 1. 0. 0.]\n",
            " [1. 0. 0. 0. 0. 0.]\n",
            " [0. 0. 0. 0. 0. 1.]]\n"
          ],
          "name": "stdout"
        }
      ]
    },
    {
      "cell_type": "code",
      "metadata": {
        "execution": {
          "iopub.execute_input": "2020-10-06T21:19:49.585814Z",
          "iopub.status.busy": "2020-10-06T21:19:49.584576Z",
          "iopub.status.idle": "2020-10-06T21:19:49.600360Z",
          "shell.execute_reply": "2020-10-06T21:19:49.601002Z"
        },
        "papermill": {
          "duration": 0.069178,
          "end_time": "2020-10-06T21:19:49.601136",
          "exception": false,
          "start_time": "2020-10-06T21:19:49.531958",
          "status": "completed"
        },
        "tags": [],
        "colab": {
          "base_uri": "https://localhost:8080/"
        },
        "id": "GYEfX-SzMQbI",
        "outputId": "7a0d74d4-1744-470c-99e0-5dccaafd0367"
      },
      "source": [
        "#Splitting the data\n",
        "X_train, X_test, y_train, y_test = train_test_split(tweets,labels, random_state=0)\n",
        "print (len(X_train),len(X_test),len(y_train),len(y_test))"
      ],
      "execution_count": null,
      "outputs": [
        {
          "output_type": "stream",
          "text": [
            "7680 2560 7680 2560\n"
          ],
          "name": "stdout"
        }
      ]
    },
    {
      "cell_type": "markdown",
      "metadata": {
        "papermill": {
          "duration": 0.044937,
          "end_time": "2020-10-06T21:19:49.968644",
          "exception": false,
          "start_time": "2020-10-06T21:19:49.923707",
          "status": "completed"
        },
        "tags": [],
        "id": "4UwzisWcMQbK"
      },
      "source": [
        "## Single LSTM layer model"
      ]
    },
    {
      "cell_type": "code",
      "metadata": {
        "execution": {
          "iopub.execute_input": "2020-10-06T21:19:50.068632Z",
          "iopub.status.busy": "2020-10-06T21:19:50.067909Z",
          "iopub.status.idle": "2020-10-06T21:30:02.803265Z",
          "shell.execute_reply": "2020-10-06T21:30:02.805203Z"
        },
        "papermill": {
          "duration": 612.793273,
          "end_time": "2020-10-06T21:30:02.806611",
          "exception": false,
          "start_time": "2020-10-06T21:19:50.013338",
          "status": "completed"
        },
        "tags": [],
        "id": "onEKDuptMQbK"
      },
      "source": [
        "model1 = Sequential()\n",
        "model1.add(layers.Embedding(max_words, 20))\n",
        "model1.add(layers.LSTM(15,dropout=0.5))\n",
        "model1.add(layers.Dense(6,activation='softmax'))\n",
        "\n",
        "\n",
        "model1.compile(optimizer='rmsprop',loss='categorical_crossentropy', metrics=['accuracy'])\n"
      ],
      "execution_count": null,
      "outputs": []
    },
    {
      "cell_type": "code",
      "metadata": {
        "colab": {
          "base_uri": "https://localhost:8080/"
        },
        "id": "QucrvseBPqmw",
        "outputId": "687874d2-6cf5-47ce-eca7-c7d11c06335d"
      },
      "source": [
        "model1.summary()"
      ],
      "execution_count": null,
      "outputs": [
        {
          "output_type": "stream",
          "text": [
            "Model: \"sequential\"\n",
            "_________________________________________________________________\n",
            "Layer (type)                 Output Shape              Param #   \n",
            "=================================================================\n",
            "embedding (Embedding)        (None, None, 20)          100000    \n",
            "_________________________________________________________________\n",
            "lstm (LSTM)                  (None, 15)                2160      \n",
            "_________________________________________________________________\n",
            "dense (Dense)                (None, 6)                 96        \n",
            "=================================================================\n",
            "Total params: 102,256\n",
            "Trainable params: 102,256\n",
            "Non-trainable params: 0\n",
            "_________________________________________________________________\n"
          ],
          "name": "stdout"
        }
      ]
    },
    {
      "cell_type": "code",
      "metadata": {
        "colab": {
          "base_uri": "https://localhost:8080/"
        },
        "id": "ICzEjGh0Dc-G",
        "outputId": "026fc18a-d8bd-4f3d-9dea-0eb55ebe3b45"
      },
      "source": [
        "history = model1.fit(X_train, y_train, epochs=100,validation_data=(X_test, y_test))"
      ],
      "execution_count": null,
      "outputs": [
        {
          "output_type": "stream",
          "text": [
            "Epoch 1/30\n",
            "240/240 [==============================] - 11s 45ms/step - loss: 0.5077 - accuracy: 0.8195 - val_loss: 3.3600 - val_accuracy: 0.2043\n",
            "Epoch 2/30\n",
            "240/240 [==============================] - 11s 45ms/step - loss: 0.4870 - accuracy: 0.8262 - val_loss: 3.3899 - val_accuracy: 0.2055\n",
            "Epoch 3/30\n",
            "240/240 [==============================] - 11s 45ms/step - loss: 0.5072 - accuracy: 0.8151 - val_loss: 3.3368 - val_accuracy: 0.2141\n",
            "Epoch 4/30\n",
            "240/240 [==============================] - 11s 45ms/step - loss: 0.4845 - accuracy: 0.8223 - val_loss: 3.3645 - val_accuracy: 0.2105\n",
            "Epoch 5/30\n",
            "240/240 [==============================] - 11s 45ms/step - loss: 0.5080 - accuracy: 0.8197 - val_loss: 3.3585 - val_accuracy: 0.2102\n",
            "Epoch 6/30\n",
            "240/240 [==============================] - 11s 45ms/step - loss: 0.4999 - accuracy: 0.8230 - val_loss: 3.3233 - val_accuracy: 0.2180\n",
            "Epoch 7/30\n",
            "240/240 [==============================] - 11s 45ms/step - loss: 0.4978 - accuracy: 0.8311 - val_loss: 3.3963 - val_accuracy: 0.2047\n",
            "Epoch 8/30\n",
            "240/240 [==============================] - 11s 45ms/step - loss: 0.5081 - accuracy: 0.8164 - val_loss: 3.3714 - val_accuracy: 0.2168\n",
            "Epoch 9/30\n",
            "240/240 [==============================] - 11s 45ms/step - loss: 0.4893 - accuracy: 0.8242 - val_loss: 3.3822 - val_accuracy: 0.2098\n",
            "Epoch 10/30\n",
            "240/240 [==============================] - 11s 45ms/step - loss: 0.5009 - accuracy: 0.8203 - val_loss: 3.4064 - val_accuracy: 0.2105\n",
            "Epoch 11/30\n",
            "240/240 [==============================] - 11s 45ms/step - loss: 0.4943 - accuracy: 0.8240 - val_loss: 3.4151 - val_accuracy: 0.2121\n",
            "Epoch 12/30\n",
            "240/240 [==============================] - 11s 45ms/step - loss: 0.4947 - accuracy: 0.8257 - val_loss: 3.3985 - val_accuracy: 0.2145\n",
            "Epoch 13/30\n",
            "240/240 [==============================] - 11s 45ms/step - loss: 0.4811 - accuracy: 0.8302 - val_loss: 3.4392 - val_accuracy: 0.2074\n",
            "Epoch 14/30\n",
            "240/240 [==============================] - 11s 45ms/step - loss: 0.4934 - accuracy: 0.8254 - val_loss: 3.4014 - val_accuracy: 0.2082\n",
            "Epoch 15/30\n",
            "240/240 [==============================] - 11s 45ms/step - loss: 0.4963 - accuracy: 0.8199 - val_loss: 3.4170 - val_accuracy: 0.2113\n",
            "Epoch 16/30\n",
            "240/240 [==============================] - 11s 45ms/step - loss: 0.5182 - accuracy: 0.8142 - val_loss: 3.3870 - val_accuracy: 0.2078\n",
            "Epoch 17/30\n",
            "240/240 [==============================] - 11s 45ms/step - loss: 0.4982 - accuracy: 0.8227 - val_loss: 3.3734 - val_accuracy: 0.2027\n",
            "Epoch 18/30\n",
            "240/240 [==============================] - 11s 45ms/step - loss: 0.5007 - accuracy: 0.8241 - val_loss: 3.4103 - val_accuracy: 0.2102\n",
            "Epoch 19/30\n",
            "240/240 [==============================] - 11s 45ms/step - loss: 0.4976 - accuracy: 0.8242 - val_loss: 3.3856 - val_accuracy: 0.2148\n",
            "Epoch 20/30\n",
            "240/240 [==============================] - 11s 45ms/step - loss: 0.4791 - accuracy: 0.8271 - val_loss: 3.4159 - val_accuracy: 0.2027\n",
            "Epoch 21/30\n",
            "240/240 [==============================] - 11s 45ms/step - loss: 0.4935 - accuracy: 0.8225 - val_loss: 3.4657 - val_accuracy: 0.2109\n",
            "Epoch 22/30\n",
            "240/240 [==============================] - 11s 45ms/step - loss: 0.4955 - accuracy: 0.8238 - val_loss: 3.4040 - val_accuracy: 0.2145\n",
            "Epoch 23/30\n",
            "240/240 [==============================] - 11s 45ms/step - loss: 0.4898 - accuracy: 0.8260 - val_loss: 3.3752 - val_accuracy: 0.2082\n",
            "Epoch 24/30\n",
            "240/240 [==============================] - 11s 45ms/step - loss: 0.4807 - accuracy: 0.8315 - val_loss: 3.3931 - val_accuracy: 0.2133\n",
            "Epoch 25/30\n",
            "240/240 [==============================] - 11s 45ms/step - loss: 0.5027 - accuracy: 0.8227 - val_loss: 3.4044 - val_accuracy: 0.2062\n",
            "Epoch 26/30\n",
            "240/240 [==============================] - 11s 45ms/step - loss: 0.4880 - accuracy: 0.8257 - val_loss: 3.3862 - val_accuracy: 0.2082\n",
            "Epoch 27/30\n",
            "240/240 [==============================] - 11s 45ms/step - loss: 0.4940 - accuracy: 0.8202 - val_loss: 3.4242 - val_accuracy: 0.2109\n",
            "Epoch 28/30\n",
            "240/240 [==============================] - 11s 45ms/step - loss: 0.4837 - accuracy: 0.8292 - val_loss: 3.4285 - val_accuracy: 0.2051\n",
            "Epoch 29/30\n",
            "240/240 [==============================] - 11s 45ms/step - loss: 0.4899 - accuracy: 0.8237 - val_loss: 3.4482 - val_accuracy: 0.2031\n",
            "Epoch 30/30\n",
            "240/240 [==============================] - 11s 45ms/step - loss: 0.4976 - accuracy: 0.8206 - val_loss: 3.3935 - val_accuracy: 0.2020\n"
          ],
          "name": "stdout"
        }
      ]
    },
    {
      "cell_type": "code",
      "metadata": {
        "id": "t8fFSQPUSt4Y",
        "colab": {
          "base_uri": "https://localhost:8080/",
          "height": 573
        },
        "outputId": "0171ccfe-e722-45f3-b999-d3da6431d08f"
      },
      "source": [
        "# plotting training and validation loss\n",
        "\n",
        "loss = history.history['loss']\n",
        "val_loss = history.history['val_loss']\n",
        "epochs = range(1, len(loss) + 1)\n",
        "plt.plot(epochs, loss, color='red', label='Training loss')\n",
        "plt.plot(epochs, val_loss, color='green', label='Validation loss')\n",
        "plt.title('Training and Validation loss')\n",
        "plt.xlabel('Epochs')\n",
        "plt.ylabel('Loss')\n",
        "plt.legend()\n",
        "plt.show()\n",
        "\n",
        "# plotting training and validation accuracy\n",
        "\n",
        "acc = history.history['accuracy']\n",
        "val_acc = history.history['val_accuracy']\n",
        "plt.plot(epochs, acc, color='red', label='Training acc')\n",
        "plt.plot(epochs, val_acc, color='green', label='Validation acc')\n",
        "plt.title('Training and Validation accuracy')\n",
        "plt.xlabel('Epochs')\n",
        "plt.ylabel('Accuracy')\n",
        "plt.legend()\n",
        "plt.show()"
      ],
      "execution_count": null,
      "outputs": [
        {
          "output_type": "display_data",
          "data": {
            "image/png": "[encoded data removed]",
            "text/plain": [
              "<Figure size 432x288 with 1 Axes>"
            ]
          },
          "metadata": {
            "tags": [],
            "needs_background": "light"
          }
        },
        {
          "output_type": "display_data",
          "data": {
            "image/png": "[encoded data removed]",
            "text/plain": [
              "<Figure size 432x288 with 1 Axes>"
            ]
          },
          "metadata": {
            "tags": [],
            "needs_background": "light"
          }
        }
      ]
    },
    {
      "cell_type": "code",
      "metadata": {
        "id": "FYWJNfPi58WZ",
        "colab": {
          "base_uri": "https://localhost:8080/"
        },
        "outputId": "a91eacbb-5e39-47e8-ef73-94871d92540d"
      },
      "source": [
        "y_pred=model1.predict(X_test, batch_size=200, verbose=1)"
      ],
      "execution_count": null,
      "outputs": [
        {
          "output_type": "stream",
          "text": [
            "13/13 [==============================] - 0s 13ms/step\n"
          ],
          "name": "stdout"
        }
      ]
    },
    {
      "cell_type": "code",
      "metadata": {
        "id": "KlwIhuTAKYkw",
        "colab": {
          "base_uri": "https://localhost:8080/"
        },
        "outputId": "6b2a7165-b1a2-47f5-c78e-728d28615f48"
      },
      "source": [
        "from sklearn.metrics import classification_report\n",
        "report = classification_report(y_test, y_pred.round())\n",
        "print(report)"
      ],
      "execution_count": null,
      "outputs": [
        {
          "output_type": "stream",
          "text": [
            "              precision    recall  f1-score   support\n",
            "\n",
            "           0       0.24      0.17      0.20       504\n",
            "           1       0.19      0.15      0.17       411\n",
            "           2       0.21      0.17      0.19       438\n",
            "           3       0.23      0.24      0.24       525\n",
            "           4       0.17      0.12      0.14       486\n",
            "           5       0.20      0.12      0.15       196\n",
            "\n",
            "   micro avg       0.21      0.17      0.19      2560\n",
            "   macro avg       0.20      0.16      0.18      2560\n",
            "weighted avg       0.21      0.17      0.18      2560\n",
            " samples avg       0.17      0.17      0.17      2560\n",
            "\n"
          ],
          "name": "stdout"
        }
      ]
    },
    {
      "cell_type": "code",
      "metadata": {
        "id": "ISWXon-PKvLz",
        "colab": {
          "base_uri": "https://localhost:8080/"
        },
        "outputId": "c71d2ddf-d465-4c47-9b61-8bc9e402fb21"
      },
      "source": [
        "# Accuracy\n",
        "from sklearn.metrics import accuracy_score\n",
        "accuracy_score(y_test, y_pred.round())"
      ],
      "execution_count": null,
      "outputs": [
        {
          "output_type": "execute_result",
          "data": {
            "text/plain": [
              "0.168359375"
            ]
          },
          "metadata": {
            "tags": []
          },
          "execution_count": 46
        }
      ]
    },
    {
      "cell_type": "markdown",
      "metadata": {
        "id": "ipHTzQSERcfH"
      },
      "source": [
        "RUC , AUC SCORE"
      ]
    },
    {
      "cell_type": "code",
      "metadata": {
        "colab": {
          "base_uri": "https://localhost:8080/"
        },
        "id": "rHzilZFjPtyF",
        "outputId": "d5661fbf-5187-4c1a-8c1b-25a1e7940166"
      },
      "source": [
        "import numpy as np\n",
        "from sklearn.metrics import roc_auc_score\n",
        "roc_auc_score(y_test, y_pred.round())"
      ],
      "execution_count": null,
      "outputs": [
        {
          "output_type": "execute_result",
          "data": {
            "text/plain": [
              "0.5157385303838415"
            ]
          },
          "metadata": {
            "tags": []
          },
          "execution_count": 42
        }
      ]
    },
    {
      "cell_type": "code",
      "metadata": {
        "id": "FstnH4X7RZS6",
        "colab": {
          "base_uri": "https://localhost:8080/"
        },
        "outputId": "2736b13c-d2ef-428d-a029-8d03b1b56996"
      },
      "source": [
        "# Confusion Matrix\n",
        "from sklearn.metrics import confusion_matrix\n",
        "cm = confusion_matrix(y_test.argmax(axis=1),y_pred.argmax(axis=1))\n",
        "print(cm)"
      ],
      "execution_count": null,
      "outputs": [
        {
          "output_type": "stream",
          "text": [
            "[[ 98  80  99 117  71  39]\n",
            " [ 75  71  64  91  89  21]\n",
            " [ 70  54  91 118  80  25]\n",
            " [ 99  61  88 151 106  20]\n",
            " [ 70  96  78 148  76  18]\n",
            " [ 37  24  31  52  22  30]]\n"
          ],
          "name": "stdout"
        }
      ]
    },
    {
      "cell_type": "code",
      "metadata": {
        "id": "eMDF2ZvyGtMr"
      },
      "source": [
        ""
      ],
      "execution_count": null,
      "outputs": []
    }
  ]
}